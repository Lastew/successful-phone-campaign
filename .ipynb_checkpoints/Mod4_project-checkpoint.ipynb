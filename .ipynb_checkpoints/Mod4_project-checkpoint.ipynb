{
 "cells": [
  {
   "cell_type": "code",
   "execution_count": null,
   "metadata": {},
   "outputs": [],
   "source": [
    "import pandas as pd\n",
    "import numpy as np\n",
    "import matplotlib.pyplot as plt\n",
    "plt.rc('font', size=14)\n",
    "import seaborn as sns \n",
    "# sns.set(style='white')\n",
    "# sns.set(style='whitegrid', color_codes=True)\n",
    "\n",
    "from sklearn import preprocessing\n",
    "from sklearn.linear_model import LogisticRegression\n",
    "from sklearn.metrics import confusion_matrix#, classifiction_report\n",
    "from sklearn.model_selection import train_test_split\n",
    "from sklearn.model_selection import cross_validate\n",
    "from sklearn.model_selection import StratifiedKFold"
   ]
  },
  {
   "cell_type": "markdown",
   "metadata": {},
   "source": [
    "### steps to take\n",
    "step 1: get the data <br>\n",
    "step 2: get dummies and change all the categorical variable to intigers<br>\n",
    "step 3: train_test_split the data<br> \n",
    "step 4: standard scaling<br>\n",
    "step 5: logistic regression<br>\n",
    "step 6: "
   ]
  },
  {
   "cell_type": "markdown",
   "metadata": {},
   "source": [
    "how to deal data imbalance "
   ]
  },
  {
   "cell_type": "markdown",
   "metadata": {},
   "source": [
    "As a Mod4 project, we are performing logistic regression. **Logistic Regression** is a predictive Machine Learning classification algorithm that explain the relationship between one dependent binary variable and one or more nominal, ordinal, interval or ratio-level independent variables.  "
   ]
  },
  {
   "cell_type": "markdown",
   "metadata": {},
   "source": [
    "## Get the data"
   ]
  },
  {
   "cell_type": "markdown",
   "metadata": {},
   "source": [
    "The dataset is taken from the UCI [Machine Learning repository](http://archive.ics.uci.edu/ml/index.php). The dataset is on direct phone calls marketing campaigns of a Portuguese banking institution. This classification project is to predict if the client will subscribe ('YES') or not ('NO') to a cash investment for an agreed rate of interest over **a fixed** amount of time, or **term**. "
   ]
  },
  {
   "cell_type": "code",
   "execution_count": null,
   "metadata": {},
   "outputs": [],
   "source": [
    "import pandas as pd\n",
    "bank = pd.read_csv('data/bank-additional-full.csv', sep=';')\n",
    "bank_final = bank[['marital', 'education', 'month', 'day_of_week', 'previous', 'y']]\n",
    "bank_final.head(3)"
   ]
  },
  {
   "cell_type": "code",
   "execution_count": null,
   "metadata": {},
   "outputs": [],
   "source": [
    "bank.columns\n",
    "# age , job , matital, education, houseing, lone, contact, month, day_of_week, campain(non-dammy), previous(non-dammy)\n",
    "# poutcome,\n",
    "bank.previous.value_counts()"
   ]
  },
  {
   "cell_type": "code",
   "execution_count": null,
   "metadata": {},
   "outputs": [],
   "source": [
    "bank.job.value_counts()"
   ]
  },
  {
   "cell_type": "code",
   "execution_count": null,
   "metadata": {},
   "outputs": [],
   "source": [
    "print(bank_final.shape)\n",
    "bank_final.head()"
   ]
  },
  {
   "cell_type": "code",
   "execution_count": null,
   "metadata": {},
   "outputs": [],
   "source": [
    "bank_final.month.unique()"
   ]
  },
  {
   "cell_type": "code",
   "execution_count": null,
   "metadata": {},
   "outputs": [],
   "source": [
    "months = {\n",
    "    'jan': 'winter',\n",
    "    'feb': 'winter',\n",
    "    'may': 'spring', \n",
    "    'jun': 'summer', \n",
    "    'jul': 'summer', \n",
    "    'aug': 'summer', \n",
    "    'oct': 'fall', \n",
    "    'nov': 'fall', \n",
    "    'dec': 'winter', \n",
    "    'mar': 'spring', \n",
    "    'apr': 'spring',\n",
    "    'sep': 'fall'\n",
    "}"
   ]
  },
  {
   "cell_type": "code",
   "execution_count": null,
   "metadata": {},
   "outputs": [],
   "source": [
    "months.items()"
   ]
  },
  {
   "cell_type": "code",
   "execution_count": null,
   "metadata": {},
   "outputs": [],
   "source": [
    "seasons = pd.DataFrame(list(months.items()), columns=['month', 'season'])\n",
    "# seasons"
   ]
  },
  {
   "cell_type": "code",
   "execution_count": null,
   "metadata": {},
   "outputs": [],
   "source": [
    "bank_final = bank_final.merge(seasons)"
   ]
  },
  {
   "cell_type": "code",
   "execution_count": null,
   "metadata": {},
   "outputs": [],
   "source": [
    "bank_final = bank_final.drop(columns=['month'])"
   ]
  },
  {
   "cell_type": "code",
   "execution_count": null,
   "metadata": {},
   "outputs": [],
   "source": [
    "bank_final"
   ]
  },
  {
   "cell_type": "code",
   "execution_count": null,
   "metadata": {},
   "outputs": [],
   "source": [
    "bank_final['month'] = np.where(bank_final.month.isin(['mar', 'apr', 'may']), 'spring', 0)#, bank_final['month'])\n",
    "# bank_final['month'] = np.where(bank_final.month.isin(['jun', 'jul', 'aug']), 'summer', 0)#, bank_final['month'])\n",
    "# bank_final['month'] = np.where(bank_final.month.isin(['sep', 'oct', 'nov']), 'fall', 0)# #bank_final['month'])\n",
    "# bank_final['month'] = np.where(bank_final.month.isin(['dec', 'jan', 'feb']), 'winter', 0)#, bank_final['month'])\n",
    "# bank_final.month.value_count()\n",
    "bank_final.month.map()\n",
    "# DMV_ibu = np.array(brewery_cleand[brewery_cleand.state.isin(['DC', 'MD', 'VA'])]['ibu'])"
   ]
  },
  {
   "cell_type": "code",
   "execution_count": null,
   "metadata": {},
   "outputs": [],
   "source": [
    "bank_final['education']=np.where(bank_final['education'] =='basic.9y', 'basic', bank_final['education'])\n",
    "bank_final['education']=np.where(bank_final['education'] =='basic.6y', 'basic', bank_final['education'])\n",
    "bank_final['education']=np.where(bank_final['education'] =='basic.4y', 'basic', bank_final['education'])\n",
    "# bank.final['education'].value_count()"
   ]
  },
  {
   "cell_type": "code",
   "execution_count": null,
   "metadata": {},
   "outputs": [],
   "source": [
    "bank_final.month.value_counts()"
   ]
  },
  {
   "cell_type": "markdown",
   "metadata": {},
   "source": [
    "## train-test split"
   ]
  },
  {
   "cell_type": "code",
   "execution_count": null,
   "metadata": {},
   "outputs": [],
   "source": [
    "X = bank_final.loc[:, bank_final.columns != 'y']\n",
    "y = bank_final['y']\n",
    "print('target variable', y.shape)\n",
    "print('predictor variable', X.shape)"
   ]
  },
  {
   "cell_type": "code",
   "execution_count": null,
   "metadata": {},
   "outputs": [],
   "source": []
  },
  {
   "cell_type": "code",
   "execution_count": null,
   "metadata": {},
   "outputs": [],
   "source": [
    "X_train, X_test, y_train, y_test = train_test_split(X, y, random_state = 42, stratify = y, test_size = .25)"
   ]
  },
  {
   "cell_type": "code",
   "execution_count": null,
   "metadata": {},
   "outputs": [],
   "source": [
    "## Let's go with the vanilla case - no regularization\n",
    "logreg = LogisticRegression(C = 1e9, solver = 'newton-cg', max_iter=10000)\n",
    "logreg.fit(X_train, y_train)"
   ]
  },
  {
   "cell_type": "code",
   "execution_count": null,
   "metadata": {},
   "outputs": [],
   "source": []
  }
 ],
 "metadata": {
  "kernelspec": {
   "display_name": "learn-env",
   "language": "python",
   "name": "learn-env"
  },
  "language_info": {
   "codemirror_mode": {
    "name": "ipython",
    "version": 3
   },
   "file_extension": ".py",
   "mimetype": "text/x-python",
   "name": "python",
   "nbconvert_exporter": "python",
   "pygments_lexer": "ipython3",
   "version": "3.6.6"
  },
  "toc": {
   "base_numbering": 1,
   "nav_menu": {},
   "number_sections": true,
   "sideBar": true,
   "skip_h1_title": false,
   "title_cell": "Table of Contents",
   "title_sidebar": "Contents",
   "toc_cell": false,
   "toc_position": {},
   "toc_section_display": true,
   "toc_window_display": false
  }
 },
 "nbformat": 4,
 "nbformat_minor": 2
}
