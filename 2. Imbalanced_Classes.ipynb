{
 "cells": [
  {
   "cell_type": "markdown",
   "metadata": {},
   "source": [
    "## Imbalanced_Classes"
   ]
  },
  {
   "cell_type": "markdown",
   "metadata": {},
   "source": [
    "### Steps to take\n",
    "<font color='grey'>step 1: Import all the necessary python packages</font><br>\n",
    "<font color='grey'>step 2: Obtain and clean data</font> <br>\n",
    "<font color='grey'>step 3: Data Exploration</font> <br>\n",
    "<font color='grey'>step 4: Modify data for Machine Learning</font><br>\n",
    "<font color='grey'>step 5: Get dummies</font><br>\n",
    "<font color='grey'>step 6: Split data into train and test</font><br> \n",
    "step 6: Standard scaling<br>\n",
    "step 7: Dealing with Imbalanced Data:\n",
    "- Logistic Regression \"class_weight\" parameter\n",
    "- SMOTE (oversampling)\n",
    "- Undersampling\n",
    "\n",
    "step 8: logistic regression<br>\n",
    "<font color='grey'>step 9: parameter tuning</font><br>\n",
    "<font color='grey'>step 10: provide actionable recommendations</font><br>\n",
    "\n"
   ]
  },
  {
   "cell_type": "code",
   "execution_count": 1,
   "metadata": {},
   "outputs": [],
   "source": [
    "import pandas as pd\n",
    "import numpy as np\n",
    "import matplotlib.pyplot as plt\n",
    "plt.rc('font', size=14)\n",
    "import seaborn as sns \n",
    "# sns.set(style='white')\n",
    "# sns.set(style='whitegrid', color_codes=True)\n",
    "\n",
    "#Machine Learning Modules\n",
    "from sklearn import preprocessing\n",
    "from sklearn.linear_model import LogisticRegression\n",
    "from sklearn.metrics import confusion_matrix, auc#, classifiction_report\n",
    "from sklearn.model_selection import train_test_split, GridSearchCV\n",
    "from sklearn.model_selection import cross_validate, cross_val_score\n",
    "from sklearn.model_selection import StratifiedKFold\n",
    "from sklearn.preprocessing import StandardScaler\n",
    "from sklearn.pipeline import Pipeline\n",
    "from sklearn.metrics import f1_score, accuracy_score, recall_score, precision_score, roc_auc_score, roc_curve\n",
    "from yellowbrick.classifier import ConfusionMatrix\n",
    "# ignore warnings\n",
    "import warnings; warnings.simplefilter('ignore')\n",
    "\n",
    "# autoreload \n",
    "%load_ext autoreload\n",
    "%autoreload 2\n",
    "\n",
    "#logistic regression script\n",
    "import logistic_regression"
   ]
  },
  {
   "cell_type": "code",
   "execution_count": 2,
   "metadata": {},
   "outputs": [],
   "source": [
    "## Load Train data from data/Train\n",
    "Train = pd.read_csv('data/Train.csv',)\n",
    "X_train = Train.drop('target', axis = 1)\n",
    "y_train = Train['target']\n",
    "# X_train.columns"
   ]
  },
  {
   "cell_type": "markdown",
   "metadata": {},
   "source": [
    "## Step 6: Standard Scaling"
   ]
  },
  {
   "cell_type": "code",
   "execution_count": 3,
   "metadata": {},
   "outputs": [
    {
     "name": "stdout",
     "output_type": "stream",
     "text": [
      "(32940, 45)\n"
     ]
    },
    {
     "data": {
      "text/html": [
       "<div>\n",
       "<style scoped>\n",
       "    .dataframe tbody tr th:only-of-type {\n",
       "        vertical-align: middle;\n",
       "    }\n",
       "\n",
       "    .dataframe tbody tr th {\n",
       "        vertical-align: top;\n",
       "    }\n",
       "\n",
       "    .dataframe thead th {\n",
       "        text-align: right;\n",
       "    }\n",
       "</style>\n",
       "<table border=\"1\" class=\"dataframe\">\n",
       "  <thead>\n",
       "    <tr style=\"text-align: right;\">\n",
       "      <th></th>\n",
       "      <th>age</th>\n",
       "      <th>campaign</th>\n",
       "      <th>pdays</th>\n",
       "      <th>previous</th>\n",
       "      <th>job_blue-collar</th>\n",
       "      <th>job_entrepreneur</th>\n",
       "      <th>job_housemaid</th>\n",
       "      <th>job_management</th>\n",
       "      <th>job_retired</th>\n",
       "      <th>job_self-employed</th>\n",
       "      <th>...</th>\n",
       "      <th>month_may</th>\n",
       "      <th>month_nov</th>\n",
       "      <th>month_oct</th>\n",
       "      <th>month_sep</th>\n",
       "      <th>day_of_week_mon</th>\n",
       "      <th>day_of_week_thu</th>\n",
       "      <th>day_of_week_tue</th>\n",
       "      <th>day_of_week_wed</th>\n",
       "      <th>poutcome_nonexistent</th>\n",
       "      <th>poutcome_success</th>\n",
       "    </tr>\n",
       "  </thead>\n",
       "  <tbody>\n",
       "    <tr>\n",
       "      <th>0</th>\n",
       "      <td>-0.293135</td>\n",
       "      <td>-0.564625</td>\n",
       "      <td>-0.19645</td>\n",
       "      <td>1.679762</td>\n",
       "      <td>-0.539824</td>\n",
       "      <td>-0.191649</td>\n",
       "      <td>-0.165773</td>\n",
       "      <td>-0.273916</td>\n",
       "      <td>-0.209108</td>\n",
       "      <td>-0.190026</td>\n",
       "      <td>...</td>\n",
       "      <td>-0.709185</td>\n",
       "      <td>-0.333783</td>\n",
       "      <td>-0.129585</td>\n",
       "      <td>-0.119922</td>\n",
       "      <td>-0.511124</td>\n",
       "      <td>-0.515608</td>\n",
       "      <td>-0.494967</td>\n",
       "      <td>-0.494729</td>\n",
       "      <td>-2.511053</td>\n",
       "      <td>-0.186655</td>\n",
       "    </tr>\n",
       "    <tr>\n",
       "      <th>1</th>\n",
       "      <td>-0.676809</td>\n",
       "      <td>-0.204519</td>\n",
       "      <td>-0.19645</td>\n",
       "      <td>-0.350523</td>\n",
       "      <td>-0.539824</td>\n",
       "      <td>-0.191649</td>\n",
       "      <td>-0.165773</td>\n",
       "      <td>-0.273916</td>\n",
       "      <td>-0.209108</td>\n",
       "      <td>-0.190026</td>\n",
       "      <td>...</td>\n",
       "      <td>-0.709185</td>\n",
       "      <td>-0.333783</td>\n",
       "      <td>-0.129585</td>\n",
       "      <td>-0.119922</td>\n",
       "      <td>-0.511124</td>\n",
       "      <td>-0.515608</td>\n",
       "      <td>2.020338</td>\n",
       "      <td>-0.494729</td>\n",
       "      <td>0.398239</td>\n",
       "      <td>-0.186655</td>\n",
       "    </tr>\n",
       "    <tr>\n",
       "      <th>2</th>\n",
       "      <td>-0.676809</td>\n",
       "      <td>-0.564625</td>\n",
       "      <td>-0.19645</td>\n",
       "      <td>-0.350523</td>\n",
       "      <td>-0.539824</td>\n",
       "      <td>-0.191649</td>\n",
       "      <td>-0.165773</td>\n",
       "      <td>-0.273916</td>\n",
       "      <td>-0.209108</td>\n",
       "      <td>-0.190026</td>\n",
       "      <td>...</td>\n",
       "      <td>-0.709185</td>\n",
       "      <td>-0.333783</td>\n",
       "      <td>-0.129585</td>\n",
       "      <td>-0.119922</td>\n",
       "      <td>-0.511124</td>\n",
       "      <td>-0.515608</td>\n",
       "      <td>2.020338</td>\n",
       "      <td>-0.494729</td>\n",
       "      <td>0.398239</td>\n",
       "      <td>-0.186655</td>\n",
       "    </tr>\n",
       "    <tr>\n",
       "      <th>3</th>\n",
       "      <td>-0.197216</td>\n",
       "      <td>0.155587</td>\n",
       "      <td>-0.19645</td>\n",
       "      <td>-0.350523</td>\n",
       "      <td>-0.539824</td>\n",
       "      <td>-0.191649</td>\n",
       "      <td>-0.165773</td>\n",
       "      <td>-0.273916</td>\n",
       "      <td>-0.209108</td>\n",
       "      <td>-0.190026</td>\n",
       "      <td>...</td>\n",
       "      <td>-0.709185</td>\n",
       "      <td>-0.333783</td>\n",
       "      <td>-0.129585</td>\n",
       "      <td>-0.119922</td>\n",
       "      <td>1.956473</td>\n",
       "      <td>-0.515608</td>\n",
       "      <td>-0.494967</td>\n",
       "      <td>-0.494729</td>\n",
       "      <td>0.398239</td>\n",
       "      <td>-0.186655</td>\n",
       "    </tr>\n",
       "    <tr>\n",
       "      <th>4</th>\n",
       "      <td>0.090540</td>\n",
       "      <td>-0.564625</td>\n",
       "      <td>-0.19645</td>\n",
       "      <td>-0.350523</td>\n",
       "      <td>-0.539824</td>\n",
       "      <td>-0.191649</td>\n",
       "      <td>-0.165773</td>\n",
       "      <td>-0.273916</td>\n",
       "      <td>-0.209108</td>\n",
       "      <td>-0.190026</td>\n",
       "      <td>...</td>\n",
       "      <td>-0.709185</td>\n",
       "      <td>-0.333783</td>\n",
       "      <td>-0.129585</td>\n",
       "      <td>-0.119922</td>\n",
       "      <td>1.956473</td>\n",
       "      <td>-0.515608</td>\n",
       "      <td>-0.494967</td>\n",
       "      <td>-0.494729</td>\n",
       "      <td>0.398239</td>\n",
       "      <td>-0.186655</td>\n",
       "    </tr>\n",
       "  </tbody>\n",
       "</table>\n",
       "<p>5 rows × 45 columns</p>\n",
       "</div>"
      ],
      "text/plain": [
       "        age  campaign    pdays  previous  job_blue-collar  job_entrepreneur  \\\n",
       "0 -0.293135 -0.564625 -0.19645  1.679762        -0.539824         -0.191649   \n",
       "1 -0.676809 -0.204519 -0.19645 -0.350523        -0.539824         -0.191649   \n",
       "2 -0.676809 -0.564625 -0.19645 -0.350523        -0.539824         -0.191649   \n",
       "3 -0.197216  0.155587 -0.19645 -0.350523        -0.539824         -0.191649   \n",
       "4  0.090540 -0.564625 -0.19645 -0.350523        -0.539824         -0.191649   \n",
       "\n",
       "   job_housemaid  job_management  job_retired  job_self-employed  ...  \\\n",
       "0      -0.165773       -0.273916    -0.209108          -0.190026  ...   \n",
       "1      -0.165773       -0.273916    -0.209108          -0.190026  ...   \n",
       "2      -0.165773       -0.273916    -0.209108          -0.190026  ...   \n",
       "3      -0.165773       -0.273916    -0.209108          -0.190026  ...   \n",
       "4      -0.165773       -0.273916    -0.209108          -0.190026  ...   \n",
       "\n",
       "   month_may  month_nov  month_oct  month_sep  day_of_week_mon  \\\n",
       "0  -0.709185  -0.333783  -0.129585  -0.119922        -0.511124   \n",
       "1  -0.709185  -0.333783  -0.129585  -0.119922        -0.511124   \n",
       "2  -0.709185  -0.333783  -0.129585  -0.119922        -0.511124   \n",
       "3  -0.709185  -0.333783  -0.129585  -0.119922         1.956473   \n",
       "4  -0.709185  -0.333783  -0.129585  -0.119922         1.956473   \n",
       "\n",
       "   day_of_week_thu  day_of_week_tue  day_of_week_wed  poutcome_nonexistent  \\\n",
       "0        -0.515608        -0.494967        -0.494729             -2.511053   \n",
       "1        -0.515608         2.020338        -0.494729              0.398239   \n",
       "2        -0.515608         2.020338        -0.494729              0.398239   \n",
       "3        -0.515608        -0.494967        -0.494729              0.398239   \n",
       "4        -0.515608        -0.494967        -0.494729              0.398239   \n",
       "\n",
       "   poutcome_success  \n",
       "0         -0.186655  \n",
       "1         -0.186655  \n",
       "2         -0.186655  \n",
       "3         -0.186655  \n",
       "4         -0.186655  \n",
       "\n",
       "[5 rows x 45 columns]"
      ]
     },
     "execution_count": 3,
     "metadata": {},
     "output_type": "execute_result"
    }
   ],
   "source": [
    "# StandardScaler\n",
    "scaler = StandardScaler().fit(X_train)\n",
    "columns = X_train.columns\n",
    "\n",
    "scaled_train = scaler.transform(X_train)\n",
    "X_train_scaled = pd.DataFrame(scaled_train, columns=columns)\n",
    "\n",
    "print(X_train_scaled.shape)\n",
    "X_train_scaled.head()"
   ]
  },
  {
   "cell_type": "markdown",
   "metadata": {},
   "source": [
    "## Step 7.0: No treatment"
   ]
  },
  {
   "cell_type": "code",
   "execution_count": 4,
   "metadata": {},
   "outputs": [],
   "source": [
    "#without class weight \n",
    "logreg_baseline = LogisticRegression(C = 1e9, solver='newton-cg')\n",
    "logreg_baseline.fit(X_train_scaled, y_train)\n",
    "y_hat_vanilla_baseline = logreg_baseline.predict(X_train_scaled)"
   ]
  },
  {
   "cell_type": "code",
   "execution_count": 5,
   "metadata": {
    "scrolled": false
   },
   "outputs": [
    {
     "name": "stdout",
     "output_type": "stream",
     "text": [
      "score = 0.898\n",
      "precision = 0.661\n",
      "recall = 0.189\n",
      "accuracy = 0.661\n",
      "f1 score = 0.294\n"
     ]
    }
   ],
   "source": [
    "print(f\"score = {np.round(logreg_baseline.score(scaled_train, y_train), 3)}\")\n",
    "logistic_regression.print_metrics(y_train, y_hat_vanilla_baseline)"
   ]
  },
  {
   "cell_type": "markdown",
   "metadata": {},
   "source": [
    "## Step 7.1: No treatment, using class_weight parameter in sklearn LogisticRegression"
   ]
  },
  {
   "cell_type": "code",
   "execution_count": 6,
   "metadata": {},
   "outputs": [
    {
     "name": "stdout",
     "output_type": "stream",
     "text": [
      "score = 0.803\n",
      "precision = 0.302\n",
      "recall = 0.572\n",
      "accuracy = 0.302\n",
      "f1 score = 0.395\n"
     ]
    }
   ],
   "source": [
    "logreg_base_classweight = LogisticRegression(C = 1e9, class_weight='balanced', solver='newton-cg')\n",
    "logreg_base_classweight.fit(X_train_scaled, y_train)\n",
    "y_hat_base_classweight = logreg_base_classweight.predict(X_train_scaled)\n",
    "\n",
    "print(f\"score = {np.round(logreg_base_classweight.score(X_train_scaled, y_train), 3)}\")\n",
    "logistic_regression.print_metrics(y_train, y_hat_base_classweight)"
   ]
  },
  {
   "cell_type": "markdown",
   "metadata": {},
   "source": [
    "Interesting - The model score decreased.<br>\n",
    "Our recall and f1 score look better, but we should try other methods. <br>\n",
    "\n",
    "Next we will try resampling the data using two different methods:\n",
    "    - Oversampling with synthetic data (SMOTE)\n",
    "    - Undersampling"
   ]
  },
  {
   "cell_type": "markdown",
   "metadata": {},
   "source": [
    "## Step 7.2: Using SMOTE \n",
    "Here we try to up-sample the subscription class (minority) using the SMOTE algorithm(Synthetic Minority Oversampling Techique).<br>\n",
    "It works by creating synthetic samples from the minor class (no-subscription) instead of creating copies.\n",
    "Randomly choosing one of the k-nearest-neighbors and using it to create a similar, but randomly tweaked, new observations.\n"
   ]
  },
  {
   "cell_type": "code",
   "execution_count": 9,
   "metadata": {},
   "outputs": [
    {
     "name": "stdout",
     "output_type": "stream",
     "text": [
      "Length of oversampled data is 58458\n",
      "Number of no subscription in oversampled data 29229\n",
      "Number of subscription 29229\n",
      "Proportion of no subscription data in oversampled data is 0.5\n",
      "Proportion of subscription data in oversampled data is 0.5\n"
     ]
    }
   ],
   "source": [
    "# from imblearn.over_sampling import SMOTE \n",
    "from imblearn.over_sampling import SMOTE\n",
    "# columns = scaled_train.columns\n",
    "os = SMOTE(random_state=19)\n",
    "os_data_X, os_data_y = os.fit_sample(X_train_scaled, y_train)\n",
    "os_data_X = pd.DataFrame(data=os_data_X, columns=columns)\n",
    "os_y=os_data_y.reshape(-1, 1)\n",
    "\n",
    "# check numbers\n",
    "print('Length of oversampled data is', len(os_data_X))\n",
    "print('Number of no subscription in oversampled data', np.sum(os_data_y==0))\n",
    "print('Number of subscription', np.sum(os_data_y==1))\n",
    "print('Proportion of no subscription data in oversampled data is', np.sum(os_data_y==0)/len(os_data_y))\n",
    "print('Proportion of subscription data in oversampled data is', np.sum(os_data_y==1)/len(os_data_y))"
   ]
  },
  {
   "cell_type": "code",
   "execution_count": 10,
   "metadata": {},
   "outputs": [
    {
     "data": {
      "image/png": "[encoded data removed]",
      "text/plain": [
       "<Figure size 432x288 with 1 Axes>"
      ]
     },
     "metadata": {
      "needs_background": "light"
     },
     "output_type": "display_data"
    }
   ],
   "source": [
    "# print(bank_clean['target'].value_counts(normalize=True))\n",
    "c=sns.countplot(x=os_data_y, palette='hls')#, data=bank_clean, palette='hls', )\n",
    "plt.xlabel('Subscription')\n",
    "c.set_xticklabels(['fail','success']);\n",
    "\n",
    "plt.savefig('img/count_plot_SMOTE')"
   ]
  },
  {
   "cell_type": "code",
   "execution_count": 11,
   "metadata": {
    "scrolled": true
   },
   "outputs": [
    {
     "name": "stdout",
     "output_type": "stream",
     "text": [
      "score = 0.708\n",
      "precision = 0.754\n",
      "recall = 0.617\n",
      "accuracy = 0.754\n",
      "f1 score = 0.679\n"
     ]
    }
   ],
   "source": [
    "# Perform vanilla logistic regression\n",
    "logreg_base_SMOTE = LogisticRegression(C = 1e9, solver='newton-cg')\n",
    "logreg_base_SMOTE.fit(os_data_X, os_data_y)\n",
    "y_hat_base_SMOTE = logreg_base_SMOTE.predict(os_data_X)\n",
    "\n",
    "print(f\"score = {np.round(logreg_base_SMOTE.score(os_data_X, os_data_y),3)}\")\n",
    "logistic_regression.print_metrics(os_data_y, y_hat_base_SMOTE)"
   ]
  },
  {
   "cell_type": "markdown",
   "metadata": {},
   "source": [
    "The model score decreased again from 80% to 71%.<br>\n",
    "However, the SMOTE method seems to increase all other metric scores. "
   ]
  },
  {
   "cell_type": "markdown",
   "metadata": {},
   "source": [
    "## Step 7.3: Using undersampling technique\n",
    "This technique undersamples the majority class randomly"
   ]
  },
  {
   "cell_type": "code",
   "execution_count": 26,
   "metadata": {},
   "outputs": [
    {
     "name": "stdout",
     "output_type": "stream",
     "text": [
      "success original count: 3711\n",
      "failure original count: 29229\n"
     ]
    },
    {
     "data": {
      "text/plain": [
       "1    3711\n",
       "0    3711\n",
       "Name: target, dtype: int64"
      ]
     },
     "execution_count": 26,
     "metadata": {},
     "output_type": "execute_result"
    }
   ],
   "source": [
    "from sklearn.utils import resample\n",
    "\n",
    "# concatenate our training data back together\n",
    "X = pd.concat([X_train_scaled, y_train], axis=1)\n",
    "X.head()\n",
    "# separate minority and majority classes\n",
    "success = X[X.target==1]\n",
    "failure = X[X.target==0]\n",
    "print(f\"success original count: {len(success)}\")\n",
    "print(f\"failure original count: {len(failure)}\")\n",
    "\n",
    "# downsample majority\n",
    "failure_downsampled = resample(failure,\n",
    "                               replace = False, # sample without replacement\n",
    "                               n_samples = len(success), # match minority n\n",
    "                               random_state = 19) # reproducible results\n",
    "\n",
    "# combine minority and downsampled majority\n",
    "downsampled = pd.concat([failure_downsampled, success])\n",
    "\n",
    "# checking counts\n",
    "downsampled.target.value_counts()"
   ]
  },
  {
   "cell_type": "code",
   "execution_count": 27,
   "metadata": {
    "scrolled": true
   },
   "outputs": [
    {
     "name": "stdout",
     "output_type": "stream",
     "text": [
      "score = 0.701\n",
      "precision = 0.767\n",
      "recall = 0.578\n",
      "accuracy = 0.767\n",
      "f1 score = 0.659\n"
     ]
    }
   ],
   "source": [
    "# Trying vanilla logistic regression again with the balanced dataset\n",
    "y_train_undersample = downsampled['target']\n",
    "X_train_undersample = downsampled.drop('target', axis=1)\n",
    "\n",
    "downsampled_lr = LogisticRegression(C = 1e9, solver='newton-cg', max_iter=1000)\n",
    "downsampled_lr.fit(X_train_undersample, y_train_undersample)\n",
    "\n",
    "downsampled_pred = downsampled_lr.predict(X_train_undersample)\n",
    "\n",
    "print(f\"score = {np.round(downsampled_lr.score(X_train_undersample, y_train_undersample), 3)}\")\n",
    "logistic_regression.print_metrics(y_train_undersample, downsampled_pred)"
   ]
  },
  {
   "cell_type": "markdown",
   "metadata": {},
   "source": [
    "The model score is slightly lower compared to SMOTE. <br>\n",
    "The metric scores are about the same compared to SMOTE but SMOTE looks slightly better"
   ]
  },
  {
   "cell_type": "markdown",
   "metadata": {},
   "source": [
    "##  Step 8: Recursive Feature Elimination (RFE)"
   ]
  },
  {
   "cell_type": "code",
   "execution_count": 28,
   "metadata": {},
   "outputs": [
    {
     "name": "stdout",
     "output_type": "stream",
     "text": [
      "(58458, 10)\n"
     ]
    },
    {
     "data": {
      "text/html": [
       "<div>\n",
       "<style scoped>\n",
       "    .dataframe tbody tr th:only-of-type {\n",
       "        vertical-align: middle;\n",
       "    }\n",
       "\n",
       "    .dataframe tbody tr th {\n",
       "        vertical-align: top;\n",
       "    }\n",
       "\n",
       "    .dataframe thead th {\n",
       "        text-align: right;\n",
       "    }\n",
       "</style>\n",
       "<table border=\"1\" class=\"dataframe\">\n",
       "  <thead>\n",
       "    <tr style=\"text-align: right;\">\n",
       "      <th></th>\n",
       "      <th>campaign</th>\n",
       "      <th>pdays</th>\n",
       "      <th>job_retired</th>\n",
       "      <th>default_unknown</th>\n",
       "      <th>contact_telephone</th>\n",
       "      <th>month_aug</th>\n",
       "      <th>month_jul</th>\n",
       "      <th>month_may</th>\n",
       "      <th>month_nov</th>\n",
       "      <th>poutcome_nonexistent</th>\n",
       "    </tr>\n",
       "  </thead>\n",
       "  <tbody>\n",
       "    <tr>\n",
       "      <th>0</th>\n",
       "      <td>-0.564625</td>\n",
       "      <td>-0.19645</td>\n",
       "      <td>-0.209108</td>\n",
       "      <td>-0.515042</td>\n",
       "      <td>-0.757855</td>\n",
       "      <td>-0.420234</td>\n",
       "      <td>-0.459331</td>\n",
       "      <td>-0.709185</td>\n",
       "      <td>-0.333783</td>\n",
       "      <td>-2.511053</td>\n",
       "    </tr>\n",
       "    <tr>\n",
       "      <th>1</th>\n",
       "      <td>-0.204519</td>\n",
       "      <td>-0.19645</td>\n",
       "      <td>-0.209108</td>\n",
       "      <td>-0.515042</td>\n",
       "      <td>-0.757855</td>\n",
       "      <td>-0.420234</td>\n",
       "      <td>2.177080</td>\n",
       "      <td>-0.709185</td>\n",
       "      <td>-0.333783</td>\n",
       "      <td>0.398239</td>\n",
       "    </tr>\n",
       "    <tr>\n",
       "      <th>2</th>\n",
       "      <td>-0.564625</td>\n",
       "      <td>-0.19645</td>\n",
       "      <td>-0.209108</td>\n",
       "      <td>-0.515042</td>\n",
       "      <td>1.319514</td>\n",
       "      <td>-0.420234</td>\n",
       "      <td>2.177080</td>\n",
       "      <td>-0.709185</td>\n",
       "      <td>-0.333783</td>\n",
       "      <td>0.398239</td>\n",
       "    </tr>\n",
       "    <tr>\n",
       "      <th>3</th>\n",
       "      <td>0.155587</td>\n",
       "      <td>-0.19645</td>\n",
       "      <td>-0.209108</td>\n",
       "      <td>-0.515042</td>\n",
       "      <td>1.319514</td>\n",
       "      <td>-0.420234</td>\n",
       "      <td>-0.459331</td>\n",
       "      <td>-0.709185</td>\n",
       "      <td>-0.333783</td>\n",
       "      <td>0.398239</td>\n",
       "    </tr>\n",
       "    <tr>\n",
       "      <th>4</th>\n",
       "      <td>-0.564625</td>\n",
       "      <td>-0.19645</td>\n",
       "      <td>-0.209108</td>\n",
       "      <td>-0.515042</td>\n",
       "      <td>-0.757855</td>\n",
       "      <td>-0.420234</td>\n",
       "      <td>2.177080</td>\n",
       "      <td>-0.709185</td>\n",
       "      <td>-0.333783</td>\n",
       "      <td>0.398239</td>\n",
       "    </tr>\n",
       "  </tbody>\n",
       "</table>\n",
       "</div>"
      ],
      "text/plain": [
       "   campaign    pdays  job_retired  default_unknown  contact_telephone  \\\n",
       "0 -0.564625 -0.19645    -0.209108        -0.515042          -0.757855   \n",
       "1 -0.204519 -0.19645    -0.209108        -0.515042          -0.757855   \n",
       "2 -0.564625 -0.19645    -0.209108        -0.515042           1.319514   \n",
       "3  0.155587 -0.19645    -0.209108        -0.515042           1.319514   \n",
       "4 -0.564625 -0.19645    -0.209108        -0.515042          -0.757855   \n",
       "\n",
       "   month_aug  month_jul  month_may  month_nov  poutcome_nonexistent  \n",
       "0  -0.420234  -0.459331  -0.709185  -0.333783             -2.511053  \n",
       "1  -0.420234   2.177080  -0.709185  -0.333783              0.398239  \n",
       "2  -0.420234   2.177080  -0.709185  -0.333783              0.398239  \n",
       "3  -0.420234  -0.459331  -0.709185  -0.333783              0.398239  \n",
       "4  -0.420234   2.177080  -0.709185  -0.333783              0.398239  "
      ]
     },
     "execution_count": 28,
     "metadata": {},
     "output_type": "execute_result"
    }
   ],
   "source": [
    "from sklearn import datasets\n",
    "from sklearn.feature_selection import RFE\n",
    "from sklearn.linear_model import LogisticRegression\n",
    "logreg = LogisticRegression(solver='lbfgs')\n",
    "\n",
    "rfe = RFE(logreg, 10)\n",
    "rfe = rfe.fit(os_data_X, os_data_y)\n",
    "col_list = zip(os_data_X.columns, rfe.support_)\n",
    "X_new_cols = [x[0] for x in col_list if x[1]==True]\n",
    "# print(X_new_cols)\n",
    "X_new = os_data_X[X_new_cols]\n",
    "print(X_new.shape)\n",
    "X_new.head()"
   ]
  },
  {
   "cell_type": "code",
   "execution_count": 29,
   "metadata": {},
   "outputs": [
    {
     "name": "stdout",
     "output_type": "stream",
     "text": [
      "score = 0.694\n",
      "precision = 0.745\n",
      "recall = 0.591\n",
      "accuracy = 0.745\n",
      "f1 score = 0.659\n"
     ]
    }
   ],
   "source": [
    "#Try applying new feature list into vanilla regression\n",
    "rfe_lr = LogisticRegression(C = 1e9, solver='newton-cg', max_iter=1000)\n",
    "rfe_lr.fit(X_new, os_data_y)\n",
    "rfe_pred = rfe_lr.predict(X_new)\n",
    "\n",
    "print(f\"score = {np.round(rfe_lr.score(X_new, os_data_y), 3)}\")\n",
    "rfe_lst = logistic_regression.print_metrics(os_data_y, rfe_pred)"
   ]
  },
  {
   "cell_type": "markdown",
   "metadata": {},
   "source": [
    "**Feature elimination does not seem to increase our scores. And in order to keep the interpretability of our results, we will choose SMOTE as a way to address data imbalance.** "
   ]
  },
  {
   "cell_type": "markdown",
   "metadata": {},
   "source": [
    "## Step 9: Regularization and kFold Cross-Validation -- Using SMOTE'd data\n"
   ]
  },
  {
   "cell_type": "code",
   "execution_count": 31,
   "metadata": {},
   "outputs": [
    {
     "name": "stdout",
     "output_type": "stream",
     "text": [
      "Means:\n",
      "Vanilla regularization:  [0.70826158 0.70737965]\n",
      "l1 regularization:  [0.70825968 0.7074994 ]\n",
      "l2 regularixation:  [0.70824828 0.70741386]\n",
      "------------------------------------\n",
      "Standard deviation\n",
      "Vanila regularization:  [0.00044485 0.00297381]\n",
      "l1 regularization:  [0.00045885 0.00288845]\n",
      "l2 regularization:  [0.0004411  0.00295954]\n"
     ]
    }
   ],
   "source": [
    "# Vanilla \n",
    "vanilla_result, vanilla_lr, vanilla_cv = logistic_regression.cross_validation(n=10, shuffle=True,\n",
    "                                                                             lr='vanilla',\n",
    "                                                                             X_train=os_data_X,\n",
    "                                                                             y_train=os_data_y,C=10e9)\n",
    "# Ridge (l2)\n",
    "l2_result, l2_reg, cv_l2 = logistic_regression.cross_validation(n=10, shuffle=True,\n",
    "                                                                lr='l2',\n",
    "                                                                X_train=os_data_X,\n",
    "                                                                y_train=os_data_y, C=1)\n",
    "# Lasso (l1)\n",
    "l1_result, l1_reg, cv_l1 = logistic_regression.cross_validation(n=10, shuffle=True,\n",
    "                                                                lr='l1',\n",
    "                                                                X_train=os_data_X,\n",
    "                                                                y_train=os_data_y,C=1)\n",
    "# calculate the mean\n",
    "print('Means:')\n",
    "print('Vanilla regularization: ', vanilla_result.mean(axis=0))\n",
    "print('l1 regularization: ', l1_result.mean(axis=0))\n",
    "print('l2 regularixation: ', l2_result.mean(axis=0))\n",
    "\n",
    "# calculate the std\n",
    "print('------------------------------------')\n",
    "print(\"Standard deviation\")\n",
    "print('Vanila regularization: ', vanilla_result.std(axis=0))\n",
    "print('l1 regularization: ', l1_result.std(axis=0))\n",
    "print('l2 regularization: ', l2_result.std(axis=0))"
   ]
  },
  {
   "cell_type": "markdown",
   "metadata": {},
   "source": [
    "#### L1 and L2 Regularizations don't show any difference in model score. We will keep both and see whether varying C (penalization) values will help us choose"
   ]
  },
  {
   "cell_type": "code",
   "execution_count": 32,
   "metadata": {},
   "outputs": [],
   "source": [
    "l1_mean_lst = []\n",
    "l1_std_lst = []\n",
    "for i in [1e9, 1e2, 1, 1e-2, 1e-9]:\n",
    "    l1_result, l1_reg, cv_l1 = logistic_regression.cross_validation(n=5, shuffle=True, lr='l1',\n",
    "                                                                    X_train=os_data_X,\n",
    "                                                                    y_train=os_data_y,\n",
    "                                                                    C = i)\n",
    "    l1_mean_lst.append(l1_result.mean(axis=0))\n",
    "    l1_std_lst.append(l1_result.std(axis=0))\n",
    "#     print(f\"C={i} result: {l1_result}\")"
   ]
  },
  {
   "cell_type": "code",
   "execution_count": 36,
   "metadata": {},
   "outputs": [
    {
     "name": "stdout",
     "output_type": "stream",
     "text": [
      "[0.0006280413246646159, 0.00063168041926533, 0.0006791418857973408, 0.0010231119879172922, 0.0]\n",
      "[0.7081408829635186, 0.7081451593918457, 0.7081665418992534, 0.7081152271368494, 0.5]\n"
     ]
    }
   ],
   "source": [
    "y_l1_std_plot = [x[0] for x in l1_std_lst]\n",
    "y_l1_mean_plot = [x[0] for x in l1_mean_lst]\n",
    "print(y_l1_std_plot)\n",
    "print(y_l1_mean_plot)"
   ]
  },
  {
   "cell_type": "code",
   "execution_count": 34,
   "metadata": {},
   "outputs": [],
   "source": [
    "l2_mean_lst = []\n",
    "l2_std_lst = []\n",
    "for i in [1e9, 1e2, 1, 1e-2, 1e-9]:\n",
    "    l2_result, l2_reg, cv_l2 = logistic_regression.cross_validation(n=5, shuffle=True, lr='l2',\n",
    "                                                                    X_train=os_data_X,\n",
    "                                                                    y_train=os_data_y,\n",
    "                                                                    C = i)\n",
    "    l2_mean_lst.append(l2_result.mean(axis=0))\n",
    "    l2_std_lst.append(l2_result.std(axis=0))\n",
    "#     print(f\"C={i} result: {l2_result}\") #, l1_reg, cv_l1 )"
   ]
  },
  {
   "cell_type": "code",
   "execution_count": 35,
   "metadata": {},
   "outputs": [
    {
     "name": "stdout",
     "output_type": "stream",
     "text": [
      "[0.0006280413246646159, 0.0006280413246646159, 0.0006405102708922318, 0.000628168109968405, 0.0007806922282804006]\n",
      "[0.7081408829635186, 0.7081408829635186, 0.7081237767015518, 0.7078971205136313, 0.655727182358872]\n"
     ]
    }
   ],
   "source": [
    "y_l2_std_plot = [x[0] for x in l2_std_lst]\n",
    "y_l2_mean_plot = [x[0] for x in l2_mean_lst]\n",
    "print(y_l2_std_plot)\n",
    "print(y_l2_mean_plot)"
   ]
  },
  {
   "cell_type": "code",
   "execution_count": 79,
   "metadata": {},
   "outputs": [
    {
     "data": {
      "image/png": "[encoded data removed]",
      "text/plain": [
       "<Figure size 432x288 with 1 Axes>"
      ]
     },
     "metadata": {},
     "output_type": "display_data"
    }
   ],
   "source": [
    "C = [1/1e9, 1/1e2, 1/1, 1/1e-2, 1/1e-9]\n",
    "\n",
    "sns.set(font_scale=1.2)\n",
    "sns.lineplot(x=C, y=y_l1_mean_plot, lw=3, alpha=.8, label='L1')\n",
    "sns.lineplot(x=C, y=y_l2_mean_plot, lw=3, alpha=.8, label='L2')\n",
    "plt.xscale(\"log\")\n",
    "plt.ylim(.65,.73)\n",
    "plt.xlabel('$\\lambda$',fontsize=14)\n",
    "plt.ylabel('score',fontsize=14)\n",
    "plt.tight_layout()\n",
    "plt.legend()\n",
    "\n",
    "plt.savefig('img/Cscore_L1_L2');"
   ]
  },
  {
   "cell_type": "markdown",
   "metadata": {},
   "source": [
    "From the graph above we concluded that L1 and L2 Regularization give us the same scores for $\\lambda$ lower than 100. \n",
    "Moving forward we choose:\n",
    "- **L2** (because we do not need sparse regularization)\n",
    "- With **C-value = 100** (middle point of our testing range)"
   ]
  },
  {
   "cell_type": "markdown",
   "metadata": {},
   "source": [
    "## Step 10: L2 Regularization with C=100 Using SMOTE'd data"
   ]
  },
  {
   "cell_type": "code",
   "execution_count": 90,
   "metadata": {},
   "outputs": [
    {
     "name": "stdout",
     "output_type": "stream",
     "text": [
      "precision = 0.754\n",
      "recall = 0.617\n",
      "accuracy = 0.754\n",
      "f1 score = 0.679\n"
     ]
    },
    {
     "data": {
      "text/html": [
       "<div>\n",
       "<style scoped>\n",
       "    .dataframe tbody tr th:only-of-type {\n",
       "        vertical-align: middle;\n",
       "    }\n",
       "\n",
       "    .dataframe tbody tr th {\n",
       "        vertical-align: top;\n",
       "    }\n",
       "\n",
       "    .dataframe thead th {\n",
       "        text-align: right;\n",
       "    }\n",
       "</style>\n",
       "<table border=\"1\" class=\"dataframe\">\n",
       "  <thead>\n",
       "    <tr style=\"text-align: right;\">\n",
       "      <th></th>\n",
       "      <th>predicted 0</th>\n",
       "      <th>predicted 1</th>\n",
       "    </tr>\n",
       "  </thead>\n",
       "  <tbody>\n",
       "    <tr>\n",
       "      <th>actual 0</th>\n",
       "      <td>23358</td>\n",
       "      <td>5871</td>\n",
       "    </tr>\n",
       "    <tr>\n",
       "      <th>actual 1</th>\n",
       "      <td>11188</td>\n",
       "      <td>18041</td>\n",
       "    </tr>\n",
       "  </tbody>\n",
       "</table>\n",
       "</div>"
      ],
      "text/plain": [
       "          predicted 0  predicted 1\n",
       "actual 0        23358         5871\n",
       "actual 1        11188        18041"
      ]
     },
     "execution_count": 90,
     "metadata": {},
     "output_type": "execute_result"
    }
   ],
   "source": [
    "# from sklearn.linear_model import LogisticRegression\n",
    "l2_reg = LogisticRegression(C=100, solver='newton-cg', max_iter=1000)\n",
    "l2_reg.fit(X=os_data_X, y=os_data_y)\n",
    "l2_reg_pred = l2_reg.predict(os_data_X)\n",
    "from sklearn.metrics import confusion_matrix\n",
    "conf_matrix = pd.DataFrame(confusion_matrix(y_true=os_data_y,\n",
    "                                            y_pred=l2_reg_pred),\n",
    "                           index= ['actual 0', 'actual 1'],\n",
    "                           columns= ['predicted 0', 'predicted 1']) \n",
    "logistic_regression.print_metrics(y_train=os_data_y, y_hat=l2_reg_pred)\n",
    "conf_matrix"
   ]
  },
  {
   "cell_type": "code",
   "execution_count": 113,
   "metadata": {},
   "outputs": [
    {
     "name": "stdout",
     "output_type": "stream",
     "text": [
      "precision = 0.754\n",
      "recall = 0.617\n",
      "accuracy = 0.754\n",
      "f1 score = 0.679\n",
      "None\n"
     ]
    },
    {
     "data": {
      "image/png": "[encoded data removed]",
      "text/plain": [
       "<Figure size 432x288 with 1 Axes>"
      ]
     },
     "metadata": {},
     "output_type": "display_data"
    }
   ],
   "source": [
    "print(logistic_regression.print_metrics(y_train=os_data_y, y_hat=l2_reg_pred))\n",
    "cm = ConfusionMatrix(l2_reg, cmap='PuBu', fontsize=14, is_fitted=True)\n",
    "cm.fit(os_data_X, os_data_y)\n",
    "cm.score(os_data_X, os_data_y)\n",
    "cm.show();"
   ]
  },
  {
   "cell_type": "code",
   "execution_count": 84,
   "metadata": {},
   "outputs": [
    {
     "name": "stdout",
     "output_type": "stream",
     "text": [
      "Average precision-recall score: 0.66\n"
     ]
    },
    {
     "data": {
      "image/png": "[encoded data removed]",
      "text/plain": [
       "<Figure size 432x288 with 1 Axes>"
      ]
     },
     "metadata": {},
     "output_type": "display_data"
    }
   ],
   "source": [
    "from sklearn.metrics import precision_recall_curve\n",
    "import matplotlib.pyplot as plt\n",
    "from inspect import signature\n",
    "\n",
    "l2_reg.fit(X=os_data_X, y=os_data_y)\n",
    "y_score = l2_reg.predict(os_data_X)\n",
    "\n",
    "precision, recall, _ = precision_recall_curve(os_data_y, y_score)\n",
    "\n",
    "from sklearn.metrics import average_precision_score\n",
    "average_precision = average_precision_score(os_data_y, y_score)\n",
    "\n",
    "print('Average precision-recall score: {0:0.2f}'.format(\n",
    "      average_precision))\n",
    "\n",
    "# In matplotlib < 1.5, plt.fill_between does not have a 'step' argument\n",
    "step_kwargs = ({'step': 'post'}\n",
    "               if 'step' in signature(plt.fill_between).parameters\n",
    "               else {})\n",
    "plt.step(recall, precision, color='b', alpha=0.2,\n",
    "         where='post')\n",
    "plt.fill_between(recall, precision, alpha=0.2, color='b', **step_kwargs)\n",
    "\n",
    "plt.xlabel('Recall')\n",
    "plt.ylabel('Precision')\n",
    "plt.ylim([0.0, 1.05])\n",
    "plt.xlim([0.0, 1.0])\n",
    "plt.title('2-class Precision-Recall curve: AP={0:0.2f}'.format(\n",
    "          average_precision));"
   ]
  },
  {
   "cell_type": "markdown",
   "metadata": {},
   "source": [
    "## Step 11: Finding Optimum Threshold, Maximizing F1 Score"
   ]
  },
  {
   "cell_type": "code",
   "execution_count": 89,
   "metadata": {},
   "outputs": [
    {
     "data": {
      "image/png": "[encoded data removed]",
      "text/plain": [
       "<Figure size 432x288 with 1 Axes>"
      ]
     },
     "metadata": {},
     "output_type": "display_data"
    }
   ],
   "source": [
    "from yellowbrick.classifier import DiscriminationThreshold\n",
    "\n",
    "# Load a binary classification dataset\n",
    "X, y = os_data_X, os_data_y\n",
    "\n",
    "# Instantiate the classification model and visualizer\n",
    "l2_reg = LogisticRegression(C=100, solver='newton-cg', max_iter=1000)\n",
    "visualizer = DiscriminationThreshold(l2_reg, exclude='queue_rate', is_fitted=True)\n",
    "\n",
    "visualizer.fit(X, y)        # Fit the data to the visualizer\n",
    "        \n",
    "plt.savefig('img/Threshold')\n",
    "visualizer.show();          # Finalize and render the figure"
   ]
  },
  {
   "cell_type": "code",
   "execution_count": 97,
   "metadata": {
    "scrolled": true
   },
   "outputs": [
    {
     "name": "stdout",
     "output_type": "stream",
     "text": [
      "precision = 0.607\n",
      "recall = 0.873\n",
      "accuracy = 0.607\n",
      "f1 score = 0.716\n"
     ]
    },
    {
     "data": {
      "text/html": [
       "<div>\n",
       "<style scoped>\n",
       "    .dataframe tbody tr th:only-of-type {\n",
       "        vertical-align: middle;\n",
       "    }\n",
       "\n",
       "    .dataframe tbody tr th {\n",
       "        vertical-align: top;\n",
       "    }\n",
       "\n",
       "    .dataframe thead th {\n",
       "        text-align: right;\n",
       "    }\n",
       "</style>\n",
       "<table border=\"1\" class=\"dataframe\">\n",
       "  <thead>\n",
       "    <tr style=\"text-align: right;\">\n",
       "      <th></th>\n",
       "      <th>predicted 0</th>\n",
       "      <th>predicted 1</th>\n",
       "    </tr>\n",
       "  </thead>\n",
       "  <tbody>\n",
       "    <tr>\n",
       "      <th>actual 0</th>\n",
       "      <td>12735</td>\n",
       "      <td>16494</td>\n",
       "    </tr>\n",
       "    <tr>\n",
       "      <th>actual 1</th>\n",
       "      <td>3711</td>\n",
       "      <td>25518</td>\n",
       "    </tr>\n",
       "  </tbody>\n",
       "</table>\n",
       "</div>"
      ],
      "text/plain": [
       "          predicted 0  predicted 1\n",
       "actual 0        12735        16494\n",
       "actual 1         3711        25518"
      ]
     },
     "execution_count": 97,
     "metadata": {},
     "output_type": "execute_result"
    }
   ],
   "source": [
    "l2_reg = LogisticRegression(C=100, solver='newton-cg', max_iter=1000,penalty='l2')\n",
    "l2_reg.fit(X=os_data_X, y=os_data_y)\n",
    "# l2_reg_pred = l2_reg.predict(os_data_X)\n",
    "y_hat_thres = 1*(l2_reg.predict_proba(os_data_X)[:,1] >= 0.34)\n",
    "from sklearn.metrics import confusion_matrix\n",
    "conf_matrix = pd.DataFrame(confusion_matrix(y_true=os_data_y,\n",
    "                                            y_pred=y_hat_thres),\n",
    "                           index= ['actual 0', 'actual 1'],\n",
    "                           columns= ['predicted 0', 'predicted 1']) \n",
    "logistic_regression.print_metrics(y_train=os_data_y, y_hat=y_hat_thres)\n",
    "conf_matrix"
   ]
  },
  {
   "cell_type": "markdown",
   "metadata": {},
   "source": [
    "## Step 12: Test Final Model With Test Data"
   ]
  },
  {
   "cell_type": "code",
   "execution_count": 98,
   "metadata": {},
   "outputs": [
    {
     "data": {
      "text/plain": [
       "8236"
      ]
     },
     "execution_count": 98,
     "metadata": {},
     "output_type": "execute_result"
    }
   ],
   "source": [
    "## Load Test data from data/Test\n",
    "Test = pd.read_csv('data/Test.csv',)\n",
    "X_test = Test.drop('target', axis = 1)\n",
    "y_test = Test['target']\n",
    "len(y_test)"
   ]
  },
  {
   "cell_type": "code",
   "execution_count": 99,
   "metadata": {},
   "outputs": [],
   "source": [
    "#Scale Test Data \n",
    "\n",
    "scaled_test = scaler.transform(X_test)\n",
    "X_test_scaled = pd.DataFrame(scaled_test, columns=columns)\n"
   ]
  },
  {
   "cell_type": "code",
   "execution_count": 112,
   "metadata": {},
   "outputs": [
    {
     "name": "stdout",
     "output_type": "stream",
     "text": [
      "precision = 0.265\n",
      "recall = 0.596\n",
      "accuracy = 0.265\n",
      "f1 score = 0.367\n",
      "None\n"
     ]
    },
    {
     "data": {
      "image/png": "[encoded data removed]",
      "text/plain": [
       "<Figure size 432x288 with 1 Axes>"
      ]
     },
     "metadata": {},
     "output_type": "display_data"
    }
   ],
   "source": [
    "y_hat = l2_reg.predict(X_test_scaled)\n",
    "\n",
    "print(logistic_regression.print_metrics(y_train=y_test, y_hat=y_hat))\n",
    "\n",
    "cm = ConfusionMatrix(l2_reg, cmap='PuBu', fontsize=14,is_fitted=True)\n",
    "cm.fit(os_data_X, os_data_y)\n",
    "cm.score(X_test_scaled, y_test)\n",
    "cm.show();"
   ]
  },
  {
   "cell_type": "markdown",
   "metadata": {},
   "source": [
    "With Optimum Threshold"
   ]
  },
  {
   "cell_type": "code",
   "execution_count": 109,
   "metadata": {
    "scrolled": true
   },
   "outputs": [
    {
     "name": "stdout",
     "output_type": "stream",
     "text": [
      "precision = 0.158\n",
      "recall = 0.843\n",
      "accuracy = 0.158\n",
      "f1 score = 0.266\n"
     ]
    },
    {
     "data": {
      "text/html": [
       "<div>\n",
       "<style scoped>\n",
       "    .dataframe tbody tr th:only-of-type {\n",
       "        vertical-align: middle;\n",
       "    }\n",
       "\n",
       "    .dataframe tbody tr th {\n",
       "        vertical-align: top;\n",
       "    }\n",
       "\n",
       "    .dataframe thead th {\n",
       "        text-align: right;\n",
       "    }\n",
       "</style>\n",
       "<table border=\"1\" class=\"dataframe\">\n",
       "  <thead>\n",
       "    <tr style=\"text-align: right;\">\n",
       "      <th></th>\n",
       "      <th>predicted 0</th>\n",
       "      <th>predicted 1</th>\n",
       "    </tr>\n",
       "  </thead>\n",
       "  <tbody>\n",
       "    <tr>\n",
       "      <th>actual 0</th>\n",
       "      <td>3138</td>\n",
       "      <td>4170</td>\n",
       "    </tr>\n",
       "    <tr>\n",
       "      <th>actual 1</th>\n",
       "      <td>146</td>\n",
       "      <td>782</td>\n",
       "    </tr>\n",
       "  </tbody>\n",
       "</table>\n",
       "</div>"
      ],
      "text/plain": [
       "          predicted 0  predicted 1\n",
       "actual 0         3138         4170\n",
       "actual 1          146          782"
      ]
     },
     "execution_count": 109,
     "metadata": {},
     "output_type": "execute_result"
    }
   ],
   "source": [
    "y_hat_thres = 1*(l2_reg.predict_proba(X_test_scaled)[:,1] >= 0.34)\n",
    "\n",
    "conf_matrix = pd.DataFrame(confusion_matrix(y_true=y_test,\n",
    "                                            y_pred=y_hat_thres),\n",
    "                           index= ['actual 0', 'actual 1'],\n",
    "                           columns= ['predicted 0', 'predicted 1']) \n",
    "logistic_regression.print_metrics(y_train=y_test, y_hat=y_hat_thres)\n",
    "conf_matrix\n",
    "\n",
    "\n",
    "\n"
   ]
  },
  {
   "cell_type": "code",
   "execution_count": 111,
   "metadata": {},
   "outputs": [
    {
     "data": {
      "image/png": "[encoded data removed]",
      "text/plain": [
       "<Figure size 432x288 with 1 Axes>"
      ]
     },
     "metadata": {},
     "output_type": "display_data"
    }
   ],
   "source": [
    "from yellowbrick.classifier import PrecisionRecallCurve\n",
    "\n",
    "# Create the visualizer, fit, score, and show it\n",
    "viz = PrecisionRecallCurve(l2_reg)\n",
    "viz.fit(os_data_X, os_data_y)\n",
    "viz.score(X_test, y_test)\n",
    "viz.show();\n"
   ]
  },
  {
   "cell_type": "code",
   "execution_count": 114,
   "metadata": {},
   "outputs": [
    {
     "name": "stdout",
     "output_type": "stream",
     "text": [
      "Average precision-recall score: 0.13\n"
     ]
    },
    {
     "data": {
      "image/png": "[encoded data removed]",
      "text/plain": [
       "<Figure size 432x288 with 1 Axes>"
      ]
     },
     "metadata": {},
     "output_type": "display_data"
    }
   ],
   "source": [
    "y_score = l2_reg.predict(X_test)\n",
    "\n",
    "precision, recall, _ = precision_recall_curve(y_test, y_score)\n",
    "average_precision = average_precision_score(y_test, y_score)\n",
    "\n",
    "print('Average precision-recall score: {0:0.2f}'.format(\n",
    "      average_precision))\n",
    "\n",
    "# In matplotlib < 1.5, plt.fill_between does not have a 'step' argument\n",
    "step_kwargs = ({'step': 'post'}\n",
    "               if 'step' in signature(plt.fill_between).parameters\n",
    "               else {})\n",
    "plt.step(recall, precision, color='b', alpha=0.2,\n",
    "         where='post')\n",
    "plt.fill_between(recall, precision, alpha=0.2, color='b', **step_kwargs)\n",
    "\n",
    "plt.xlabel('Recall')\n",
    "plt.ylabel('Precision')\n",
    "plt.ylim([0.0, 1.05])\n",
    "plt.xlim([0.0, 1.0])\n",
    "plt.title('2-class Precision-Recall curve: AP={0:0.2f}'.format(\n",
    "          average_precision));"
   ]
  },
  {
   "cell_type": "code",
   "execution_count": null,
   "metadata": {},
   "outputs": [],
   "source": []
  },
  {
   "cell_type": "code",
   "execution_count": null,
   "metadata": {},
   "outputs": [],
   "source": []
  },
  {
   "cell_type": "code",
   "execution_count": null,
   "metadata": {},
   "outputs": [],
   "source": []
  },
  {
   "cell_type": "code",
   "execution_count": null,
   "metadata": {},
   "outputs": [],
   "source": []
  }
 ],
 "metadata": {
  "kernelspec": {
   "display_name": "Python 3",
   "language": "python",
   "name": "python3"
  },
  "language_info": {
   "codemirror_mode": {
    "name": "ipython",
    "version": 3
   },
   "file_extension": ".py",
   "mimetype": "text/x-python",
   "name": "python",
   "nbconvert_exporter": "python",
   "pygments_lexer": "ipython3",
   "version": "3.7.3"
  },
  "toc": {
   "base_numbering": 1,
   "nav_menu": {},
   "number_sections": true,
   "sideBar": true,
   "skip_h1_title": false,
   "title_cell": "Table of Contents",
   "title_sidebar": "Contents",
   "toc_cell": false,
   "toc_position": {},
   "toc_section_display": true,
   "toc_window_display": false
  }
 },
 "nbformat": 4,
 "nbformat_minor": 2
}
