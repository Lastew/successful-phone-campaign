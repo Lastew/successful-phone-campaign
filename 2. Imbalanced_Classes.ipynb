{
 "cells": [
  {
   "cell_type": "markdown",
   "metadata": {},
   "source": [
    "## Imbalanced_Classes"
   ]
  },
  {
   "cell_type": "markdown",
   "metadata": {},
   "source": [
    "### Steps to take\n",
    "<font color='grey'>step 1: Import all the necessary python packages</font><br>\n",
    "<font color='grey'>step 2: Obtain and clean data</font> <br>\n",
    "<font color='grey'>step 3: Data Exploration</font> <br>\n",
    "<font color='grey'>step 4: Modify data for Machine Learning</font><br>\n",
    "<font color='grey'>step 5: Get dummies</font><br>\n",
    "<font color='grey'>step 6: Split data into train and test</font><br> \n",
    "step 6: Standard scaling<br>\n",
    "step 7: Dealing with Imbalanced Data:\n",
    "- Logistic Regression \"class_weight\" parameter\n",
    "- SMOTE (oversampling)\n",
    "- Undersampling\n",
    "\n",
    "step 8: logistic regression<br>\n",
    "<font color='grey'>step 9: parameter tuning</font><br>\n",
    "<font color='grey'>step 10: provide actionable recommendations</font><br>\n",
    "\n"
   ]
  },
  {
   "cell_type": "code",
   "execution_count": 1,
   "metadata": {},
   "outputs": [],
   "source": [
    "import pandas as pd\n",
    "import numpy as np\n",
    "import matplotlib.pyplot as plt\n",
    "plt.rc('font', size=14)\n",
    "import seaborn as sns \n",
    "# sns.set(style='white')\n",
    "# sns.set(style='whitegrid', color_codes=True)\n",
    "\n",
    "#Machine Learning Modules\n",
    "from sklearn import preprocessing\n",
    "from sklearn.linear_model import LogisticRegression\n",
    "from sklearn.metrics import confusion_matrix, auc#, classifiction_report\n",
    "from sklearn.model_selection import train_test_split, GridSearchCV\n",
    "from sklearn.model_selection import cross_validate, cross_val_score\n",
    "from sklearn.model_selection import StratifiedKFold\n",
    "from sklearn.preprocessing import StandardScaler\n",
    "from sklearn.pipeline import Pipeline\n",
    "from sklearn.metrics import f1_score, accuracy_score, recall_score, precision_score, roc_auc_score, roc_curve\n",
    "from yellowbrick.classifier import ConfusionMatrix\n",
    "# ignore warnings\n",
    "import warnings; warnings.simplefilter('ignore')\n",
    "\n",
    "# autoreload \n",
    "%load_ext autoreload\n",
    "%autoreload 2\n",
    "\n",
    "#logistic regression script\n",
    "import logistic_regression"
   ]
  },
  {
   "cell_type": "code",
   "execution_count": 2,
   "metadata": {},
   "outputs": [],
   "source": [
    "## Load Train data from data/Train\n",
    "Train = pd.read_csv('data/Train.csv',)\n",
    "X_train = Train.drop('target', axis = 1)\n",
    "y_train = Train['target']\n",
    "# X_train.columns"
   ]
  },
  {
   "cell_type": "markdown",
   "metadata": {},
   "source": [
    "## Step 6: Standard Scaling"
   ]
  },
  {
   "cell_type": "code",
   "execution_count": 3,
   "metadata": {},
   "outputs": [
    {
     "name": "stdout",
     "output_type": "stream",
     "text": [
      "(32940, 45)\n"
     ]
    },
    {
     "data": {
      "text/html": [
       "<div>\n",
       "<style scoped>\n",
       "    .dataframe tbody tr th:only-of-type {\n",
       "        vertical-align: middle;\n",
       "    }\n",
       "\n",
       "    .dataframe tbody tr th {\n",
       "        vertical-align: top;\n",
       "    }\n",
       "\n",
       "    .dataframe thead th {\n",
       "        text-align: right;\n",
       "    }\n",
       "</style>\n",
       "<table border=\"1\" class=\"dataframe\">\n",
       "  <thead>\n",
       "    <tr style=\"text-align: right;\">\n",
       "      <th></th>\n",
       "      <th>age</th>\n",
       "      <th>campaign</th>\n",
       "      <th>pdays</th>\n",
       "      <th>previous</th>\n",
       "      <th>job_blue-collar</th>\n",
       "      <th>job_entrepreneur</th>\n",
       "      <th>job_housemaid</th>\n",
       "      <th>job_management</th>\n",
       "      <th>job_retired</th>\n",
       "      <th>job_self-employed</th>\n",
       "      <th>...</th>\n",
       "      <th>month_may</th>\n",
       "      <th>month_nov</th>\n",
       "      <th>month_oct</th>\n",
       "      <th>month_sep</th>\n",
       "      <th>day_of_week_mon</th>\n",
       "      <th>day_of_week_thu</th>\n",
       "      <th>day_of_week_tue</th>\n",
       "      <th>day_of_week_wed</th>\n",
       "      <th>poutcome_nonexistent</th>\n",
       "      <th>poutcome_success</th>\n",
       "    </tr>\n",
       "  </thead>\n",
       "  <tbody>\n",
       "    <tr>\n",
       "      <th>0</th>\n",
       "      <td>-0.293135</td>\n",
       "      <td>-0.564625</td>\n",
       "      <td>-0.19645</td>\n",
       "      <td>1.679762</td>\n",
       "      <td>-0.539824</td>\n",
       "      <td>-0.191649</td>\n",
       "      <td>-0.165773</td>\n",
       "      <td>-0.273916</td>\n",
       "      <td>-0.209108</td>\n",
       "      <td>-0.190026</td>\n",
       "      <td>...</td>\n",
       "      <td>-0.709185</td>\n",
       "      <td>-0.333783</td>\n",
       "      <td>-0.129585</td>\n",
       "      <td>-0.119922</td>\n",
       "      <td>-0.511124</td>\n",
       "      <td>-0.515608</td>\n",
       "      <td>-0.494967</td>\n",
       "      <td>-0.494729</td>\n",
       "      <td>-2.511053</td>\n",
       "      <td>-0.186655</td>\n",
       "    </tr>\n",
       "    <tr>\n",
       "      <th>1</th>\n",
       "      <td>-0.676809</td>\n",
       "      <td>-0.204519</td>\n",
       "      <td>-0.19645</td>\n",
       "      <td>-0.350523</td>\n",
       "      <td>-0.539824</td>\n",
       "      <td>-0.191649</td>\n",
       "      <td>-0.165773</td>\n",
       "      <td>-0.273916</td>\n",
       "      <td>-0.209108</td>\n",
       "      <td>-0.190026</td>\n",
       "      <td>...</td>\n",
       "      <td>-0.709185</td>\n",
       "      <td>-0.333783</td>\n",
       "      <td>-0.129585</td>\n",
       "      <td>-0.119922</td>\n",
       "      <td>-0.511124</td>\n",
       "      <td>-0.515608</td>\n",
       "      <td>2.020338</td>\n",
       "      <td>-0.494729</td>\n",
       "      <td>0.398239</td>\n",
       "      <td>-0.186655</td>\n",
       "    </tr>\n",
       "    <tr>\n",
       "      <th>2</th>\n",
       "      <td>-0.676809</td>\n",
       "      <td>-0.564625</td>\n",
       "      <td>-0.19645</td>\n",
       "      <td>-0.350523</td>\n",
       "      <td>-0.539824</td>\n",
       "      <td>-0.191649</td>\n",
       "      <td>-0.165773</td>\n",
       "      <td>-0.273916</td>\n",
       "      <td>-0.209108</td>\n",
       "      <td>-0.190026</td>\n",
       "      <td>...</td>\n",
       "      <td>-0.709185</td>\n",
       "      <td>-0.333783</td>\n",
       "      <td>-0.129585</td>\n",
       "      <td>-0.119922</td>\n",
       "      <td>-0.511124</td>\n",
       "      <td>-0.515608</td>\n",
       "      <td>2.020338</td>\n",
       "      <td>-0.494729</td>\n",
       "      <td>0.398239</td>\n",
       "      <td>-0.186655</td>\n",
       "    </tr>\n",
       "    <tr>\n",
       "      <th>3</th>\n",
       "      <td>-0.197216</td>\n",
       "      <td>0.155587</td>\n",
       "      <td>-0.19645</td>\n",
       "      <td>-0.350523</td>\n",
       "      <td>-0.539824</td>\n",
       "      <td>-0.191649</td>\n",
       "      <td>-0.165773</td>\n",
       "      <td>-0.273916</td>\n",
       "      <td>-0.209108</td>\n",
       "      <td>-0.190026</td>\n",
       "      <td>...</td>\n",
       "      <td>-0.709185</td>\n",
       "      <td>-0.333783</td>\n",
       "      <td>-0.129585</td>\n",
       "      <td>-0.119922</td>\n",
       "      <td>1.956473</td>\n",
       "      <td>-0.515608</td>\n",
       "      <td>-0.494967</td>\n",
       "      <td>-0.494729</td>\n",
       "      <td>0.398239</td>\n",
       "      <td>-0.186655</td>\n",
       "    </tr>\n",
       "    <tr>\n",
       "      <th>4</th>\n",
       "      <td>0.090540</td>\n",
       "      <td>-0.564625</td>\n",
       "      <td>-0.19645</td>\n",
       "      <td>-0.350523</td>\n",
       "      <td>-0.539824</td>\n",
       "      <td>-0.191649</td>\n",
       "      <td>-0.165773</td>\n",
       "      <td>-0.273916</td>\n",
       "      <td>-0.209108</td>\n",
       "      <td>-0.190026</td>\n",
       "      <td>...</td>\n",
       "      <td>-0.709185</td>\n",
       "      <td>-0.333783</td>\n",
       "      <td>-0.129585</td>\n",
       "      <td>-0.119922</td>\n",
       "      <td>1.956473</td>\n",
       "      <td>-0.515608</td>\n",
       "      <td>-0.494967</td>\n",
       "      <td>-0.494729</td>\n",
       "      <td>0.398239</td>\n",
       "      <td>-0.186655</td>\n",
       "    </tr>\n",
       "  </tbody>\n",
       "</table>\n",
       "<p>5 rows × 45 columns</p>\n",
       "</div>"
      ],
      "text/plain": [
       "        age  campaign    pdays  previous  job_blue-collar  job_entrepreneur  \\\n",
       "0 -0.293135 -0.564625 -0.19645  1.679762        -0.539824         -0.191649   \n",
       "1 -0.676809 -0.204519 -0.19645 -0.350523        -0.539824         -0.191649   \n",
       "2 -0.676809 -0.564625 -0.19645 -0.350523        -0.539824         -0.191649   \n",
       "3 -0.197216  0.155587 -0.19645 -0.350523        -0.539824         -0.191649   \n",
       "4  0.090540 -0.564625 -0.19645 -0.350523        -0.539824         -0.191649   \n",
       "\n",
       "   job_housemaid  job_management  job_retired  job_self-employed  ...  \\\n",
       "0      -0.165773       -0.273916    -0.209108          -0.190026  ...   \n",
       "1      -0.165773       -0.273916    -0.209108          -0.190026  ...   \n",
       "2      -0.165773       -0.273916    -0.209108          -0.190026  ...   \n",
       "3      -0.165773       -0.273916    -0.209108          -0.190026  ...   \n",
       "4      -0.165773       -0.273916    -0.209108          -0.190026  ...   \n",
       "\n",
       "   month_may  month_nov  month_oct  month_sep  day_of_week_mon  \\\n",
       "0  -0.709185  -0.333783  -0.129585  -0.119922        -0.511124   \n",
       "1  -0.709185  -0.333783  -0.129585  -0.119922        -0.511124   \n",
       "2  -0.709185  -0.333783  -0.129585  -0.119922        -0.511124   \n",
       "3  -0.709185  -0.333783  -0.129585  -0.119922         1.956473   \n",
       "4  -0.709185  -0.333783  -0.129585  -0.119922         1.956473   \n",
       "\n",
       "   day_of_week_thu  day_of_week_tue  day_of_week_wed  poutcome_nonexistent  \\\n",
       "0        -0.515608        -0.494967        -0.494729             -2.511053   \n",
       "1        -0.515608         2.020338        -0.494729              0.398239   \n",
       "2        -0.515608         2.020338        -0.494729              0.398239   \n",
       "3        -0.515608        -0.494967        -0.494729              0.398239   \n",
       "4        -0.515608        -0.494967        -0.494729              0.398239   \n",
       "\n",
       "   poutcome_success  \n",
       "0         -0.186655  \n",
       "1         -0.186655  \n",
       "2         -0.186655  \n",
       "3         -0.186655  \n",
       "4         -0.186655  \n",
       "\n",
       "[5 rows x 45 columns]"
      ]
     },
     "execution_count": 3,
     "metadata": {},
     "output_type": "execute_result"
    }
   ],
   "source": [
    "# StandardScaler\n",
    "scaler = StandardScaler().fit(X_train)\n",
    "columns = X_train.columns\n",
    "\n",
    "scaled_train = scaler.transform(X_train)\n",
    "X_train_scaled = pd.DataFrame(scaled_train, columns=columns)\n",
    "# ## then used \n",
    "# # scaler.transform(X_test)\n",
    "print(X_train_scaled.shape)\n",
    "X_train_scaled.head()"
   ]
  },
  {
   "cell_type": "markdown",
   "metadata": {},
   "source": [
    "## Step 7.0: No treatment"
   ]
  },
  {
   "cell_type": "code",
   "execution_count": 4,
   "metadata": {},
   "outputs": [],
   "source": [
    "#without class weight \n",
    "logreg_baseline = LogisticRegression(C = 1e9, solver='newton-cg')\n",
    "logreg_baseline.fit(X_train_scaled, y_train)\n",
    "y_hat_vanilla_baseline = logreg_baseline.predict(X_train_scaled)"
   ]
  },
  {
   "cell_type": "code",
   "execution_count": 5,
   "metadata": {
    "scrolled": false
   },
   "outputs": [
    {
     "name": "stdout",
     "output_type": "stream",
     "text": [
      "score = 0.898\n",
      "precision = 0.661\n",
      "recall = 0.189\n",
      "accuracy = 0.661\n",
      "f1 score = 0.294\n"
     ]
    },
    {
     "data": {
      "text/plain": [
       "[0.661, 0.189, 0.661, 0.294]"
      ]
     },
     "execution_count": 5,
     "metadata": {},
     "output_type": "execute_result"
    }
   ],
   "source": [
    "print(f\"score = {np.round(logreg_baseline.score(scaled_train, y_train), 3)}\")\n",
    "logistic_regression.print_metrics(y_train, y_hat_vanilla_baseline)"
   ]
  },
  {
   "cell_type": "markdown",
   "metadata": {},
   "source": [
    "## Step 7.1: No treatment, using class_weight parameter in sklearn LogisticRegression"
   ]
  },
  {
   "cell_type": "code",
   "execution_count": 6,
   "metadata": {},
   "outputs": [
    {
     "name": "stdout",
     "output_type": "stream",
     "text": [
      "score = 0.803\n",
      "precision = 0.302\n",
      "recall = 0.572\n",
      "accuracy = 0.302\n",
      "f1 score = 0.395\n"
     ]
    },
    {
     "data": {
      "text/plain": [
       "[0.302, 0.572, 0.302, 0.395]"
      ]
     },
     "execution_count": 6,
     "metadata": {},
     "output_type": "execute_result"
    }
   ],
   "source": [
    "logreg_base_classweight = LogisticRegression(C = 1e9, class_weight='balanced', solver='newton-cg')\n",
    "logreg_base_classweight.fit(X_train_scaled, y_train)\n",
    "y_hat_base_classweight = logreg_base_classweight.predict(X_train_scaled)\n",
    "\n",
    "print(f\"score = {np.round(logreg_base_classweight.score(X_train_scaled, y_train), 3)}\")\n",
    "logistic_regression.print_metrics(y_train, y_hat_base_classweight)"
   ]
  },
  {
   "cell_type": "markdown",
   "metadata": {},
   "source": [
    "Interesting - The model score decreased.<br>\n",
    "Our recall and f1 score look better, but we should try other methods. <br>\n",
    "\n",
    "Next we will try resampling the data using two different methods:\n",
    "    - Oversampling with synthetic data (SMOTE)\n",
    "    - Undersampling"
   ]
  },
  {
   "cell_type": "markdown",
   "metadata": {},
   "source": [
    "## Step 7.2: Using SMOTE \n",
    "Here we try to up-sample the subscription class (minority) using the SMOTE algorithm(Synthetic Minority Oversampling Techique).<br>\n",
    "It works by creating synthetic samples from the minor class (no-subscription) instead of creating copies.\n",
    "Randomly choosing one of the k-nearest-neighbors and using it to create a similar, but randomly tweaked, new observations.\n"
   ]
  },
  {
   "cell_type": "code",
   "execution_count": 7,
   "metadata": {},
   "outputs": [
    {
     "name": "stdout",
     "output_type": "stream",
     "text": [
      "Length of oversampled data is 58458\n",
      "Number of no subscription in oversampled data 29229\n",
      "Number of subscription 29229\n",
      "Proportion of no subscription data in oversampled data is 0.5\n",
      "Proportion of subscription data in oversampled data is 0.5\n"
     ]
    }
   ],
   "source": [
    "# from imblearn.over_sampling import SMOTE \n",
    "from imblearn.over_sampling import SMOTE\n",
    "# columns = scaled_train.columns\n",
    "os = SMOTE(random_state=19)\n",
    "os_data_X, os_data_y = os.fit_sample(X_train_scaled, y_train)\n",
    "os_data_X = pd.DataFrame(data=os_data_X, columns=columns)\n",
    "os_y=os_data_y.reshape(-1, 1)\n",
    "\n",
    "# check numbers\n",
    "print('Length of oversampled data is', len(os_data_X))\n",
    "print('Number of no subscription in oversampled data', np.sum(os_data_y==0))\n",
    "print('Number of subscription', np.sum(os_data_y==1))\n",
    "print('Proportion of no subscription data in oversampled data is', np.sum(os_data_y==0)/len(os_data_y))\n",
    "print('Proportion of subscription data in oversampled data is', np.sum(os_data_y==1)/len(os_data_y))"
   ]
  },
  {
   "cell_type": "code",
   "execution_count": 8,
   "metadata": {},
   "outputs": [
    {
     "data": {
      "image/png": "[encoded data removed]",
      "text/plain": [
       "<Figure size 432x288 with 1 Axes>"
      ]
     },
     "metadata": {
      "needs_background": "light"
     },
     "output_type": "display_data"
    }
   ],
   "source": [
    "# print(bank_clean['target'].value_counts(normalize=True))\n",
    "c=sns.countplot(x=os_data_y, palette='hls')#, data=bank_clean, palette='hls', )\n",
    "plt.xlabel('Subscription')\n",
    "c.set_xticklabels(['fail','success']);\n",
    "\n",
    "plt.savefig('img/count_plot_SMOTE')"
   ]
  },
  {
   "cell_type": "code",
   "execution_count": 9,
   "metadata": {
    "scrolled": true
   },
   "outputs": [
    {
     "name": "stdout",
     "output_type": "stream",
     "text": [
      "score = 0.708\n",
      "precision = 0.754\n",
      "recall = 0.617\n",
      "accuracy = 0.754\n",
      "f1 score = 0.679\n"
     ]
    },
    {
     "data": {
      "text/plain": [
       "[0.754, 0.617, 0.754, 0.679]"
      ]
     },
     "execution_count": 9,
     "metadata": {},
     "output_type": "execute_result"
    }
   ],
   "source": [
    "# Perform vanilla logistic regression\n",
    "logreg_base_SMOTE = LogisticRegression(C = 1e9, solver='newton-cg')\n",
    "logreg_base_SMOTE.fit(os_data_X, os_data_y)\n",
    "y_hat_base_SMOTE = logreg_base_SMOTE.predict(os_data_X)\n",
    "\n",
    "print(f\"score = {np.round(logreg_base_SMOTE.score(os_data_X, os_data_y),3)}\")\n",
    "logistic_regression.print_metrics(os_data_y, y_hat_base_SMOTE)"
   ]
  },
  {
   "cell_type": "markdown",
   "metadata": {},
   "source": [
    "The model score decreased again from 80% to 71%.<br>\n",
    "However, the SMOTE method seems to increase all other metric scores. "
   ]
  },
  {
   "cell_type": "markdown",
   "metadata": {},
   "source": [
    "## Step 7.3: Using undersampling technique\n",
    "This technique undersamples the majority class randomly"
   ]
  },
  {
   "cell_type": "code",
   "execution_count": 126,
   "metadata": {},
   "outputs": [
    {
     "name": "stdout",
     "output_type": "stream",
     "text": [
      "success original count: 3711\n",
      "failure original count: 29229\n"
     ]
    },
    {
     "data": {
      "text/plain": [
       "1    3711\n",
       "0    3711\n",
       "Name: target, dtype: int64"
      ]
     },
     "execution_count": 126,
     "metadata": {},
     "output_type": "execute_result"
    }
   ],
   "source": [
    "from sklearn.utils import resample\n",
    "\n",
    "# concatenate our training data back together\n",
    "X = pd.concat([X_train_scaled, y_train], axis=1)\n",
    "X.head()\n",
    "# separate minority and majority classes\n",
    "success = X[X.target==1]\n",
    "failure = X[X.target==0]\n",
    "print(f\"success original count: {len(success)}\")\n",
    "print(f\"failure original count: {len(failure)}\")\n",
    "\n",
    "# downsample majority\n",
    "failure_downsampled = resample(failure,\n",
    "                               replace = False, # sample without replacement\n",
    "                               n_samples = len(success), # match minority n\n",
    "                               random_state = 19) # reproducible results\n",
    "\n",
    "# combine minority and downsampled majority\n",
    "downsampled = pd.concat([failure_downsampled, success])\n",
    "\n",
    "# checking counts\n",
    "downsampled.target.value_counts()"
   ]
  },
  {
   "cell_type": "code",
   "execution_count": 127,
   "metadata": {
    "scrolled": true
   },
   "outputs": [
    {
     "name": "stdout",
     "output_type": "stream",
     "text": [
      "score = 0.701\n",
      "precision = 0.767\n",
      "recall = 0.578\n",
      "accuracy = 0.767\n",
      "f1 score = 0.659\n"
     ]
    },
    {
     "data": {
      "text/plain": [
       "[0.767, 0.578, 0.767, 0.659]"
      ]
     },
     "execution_count": 127,
     "metadata": {},
     "output_type": "execute_result"
    }
   ],
   "source": [
    "# Trying vanilla logistic regression again with the balanced dataset\n",
    "y_train_undersample = downsampled['target']\n",
    "X_train_undersample = downsampled.drop('target', axis=1)\n",
    "\n",
    "downsampled_lr = LogisticRegression(C = 1e9, solver='newton-cg', max_iter=1000)\n",
    "downsampled_lr.fit(X_train_undersample, y_train_undersample)\n",
    "\n",
    "downsampled_pred = downsampled_lr.predict(X_train_undersample)\n",
    "\n",
    "print(f\"score = {np.round(downsampled_lr.score(X_train_undersample, y_train_undersample), 3)}\")\n",
    "logistic_regression.print_metrics(y_train_undersample, downsampled_pred)"
   ]
  },
  {
   "cell_type": "markdown",
   "metadata": {},
   "source": [
    "The model score is slightly lower compared to SMOTE. <br>\n",
    "The metric scores are about the same compared to SMOTE but SMOTE looks slightly better"
   ]
  },
  {
   "cell_type": "markdown",
   "metadata": {},
   "source": [
    "##  Step 8: Recursive Feature Elimination (RFE)"
   ]
  },
  {
   "cell_type": "code",
   "execution_count": 128,
   "metadata": {},
   "outputs": [
    {
     "name": "stdout",
     "output_type": "stream",
     "text": [
      "(58458, 10)\n"
     ]
    },
    {
     "data": {
      "text/html": [
       "<div>\n",
       "<style scoped>\n",
       "    .dataframe tbody tr th:only-of-type {\n",
       "        vertical-align: middle;\n",
       "    }\n",
       "\n",
       "    .dataframe tbody tr th {\n",
       "        vertical-align: top;\n",
       "    }\n",
       "\n",
       "    .dataframe thead th {\n",
       "        text-align: right;\n",
       "    }\n",
       "</style>\n",
       "<table border=\"1\" class=\"dataframe\">\n",
       "  <thead>\n",
       "    <tr style=\"text-align: right;\">\n",
       "      <th></th>\n",
       "      <th>campaign</th>\n",
       "      <th>pdays</th>\n",
       "      <th>job_retired</th>\n",
       "      <th>default_unknown</th>\n",
       "      <th>contact_telephone</th>\n",
       "      <th>month_aug</th>\n",
       "      <th>month_jul</th>\n",
       "      <th>month_may</th>\n",
       "      <th>month_nov</th>\n",
       "      <th>poutcome_nonexistent</th>\n",
       "    </tr>\n",
       "  </thead>\n",
       "  <tbody>\n",
       "    <tr>\n",
       "      <th>0</th>\n",
       "      <td>-0.564625</td>\n",
       "      <td>-0.19645</td>\n",
       "      <td>-0.209108</td>\n",
       "      <td>-0.515042</td>\n",
       "      <td>-0.757855</td>\n",
       "      <td>-0.420234</td>\n",
       "      <td>-0.459331</td>\n",
       "      <td>-0.709185</td>\n",
       "      <td>-0.333783</td>\n",
       "      <td>-2.511053</td>\n",
       "    </tr>\n",
       "    <tr>\n",
       "      <th>1</th>\n",
       "      <td>-0.204519</td>\n",
       "      <td>-0.19645</td>\n",
       "      <td>-0.209108</td>\n",
       "      <td>-0.515042</td>\n",
       "      <td>-0.757855</td>\n",
       "      <td>-0.420234</td>\n",
       "      <td>2.177080</td>\n",
       "      <td>-0.709185</td>\n",
       "      <td>-0.333783</td>\n",
       "      <td>0.398239</td>\n",
       "    </tr>\n",
       "    <tr>\n",
       "      <th>2</th>\n",
       "      <td>-0.564625</td>\n",
       "      <td>-0.19645</td>\n",
       "      <td>-0.209108</td>\n",
       "      <td>-0.515042</td>\n",
       "      <td>1.319514</td>\n",
       "      <td>-0.420234</td>\n",
       "      <td>2.177080</td>\n",
       "      <td>-0.709185</td>\n",
       "      <td>-0.333783</td>\n",
       "      <td>0.398239</td>\n",
       "    </tr>\n",
       "    <tr>\n",
       "      <th>3</th>\n",
       "      <td>0.155587</td>\n",
       "      <td>-0.19645</td>\n",
       "      <td>-0.209108</td>\n",
       "      <td>-0.515042</td>\n",
       "      <td>1.319514</td>\n",
       "      <td>-0.420234</td>\n",
       "      <td>-0.459331</td>\n",
       "      <td>-0.709185</td>\n",
       "      <td>-0.333783</td>\n",
       "      <td>0.398239</td>\n",
       "    </tr>\n",
       "    <tr>\n",
       "      <th>4</th>\n",
       "      <td>-0.564625</td>\n",
       "      <td>-0.19645</td>\n",
       "      <td>-0.209108</td>\n",
       "      <td>-0.515042</td>\n",
       "      <td>-0.757855</td>\n",
       "      <td>-0.420234</td>\n",
       "      <td>2.177080</td>\n",
       "      <td>-0.709185</td>\n",
       "      <td>-0.333783</td>\n",
       "      <td>0.398239</td>\n",
       "    </tr>\n",
       "  </tbody>\n",
       "</table>\n",
       "</div>"
      ],
      "text/plain": [
       "   campaign    pdays  job_retired  default_unknown  contact_telephone  \\\n",
       "0 -0.564625 -0.19645    -0.209108        -0.515042          -0.757855   \n",
       "1 -0.204519 -0.19645    -0.209108        -0.515042          -0.757855   \n",
       "2 -0.564625 -0.19645    -0.209108        -0.515042           1.319514   \n",
       "3  0.155587 -0.19645    -0.209108        -0.515042           1.319514   \n",
       "4 -0.564625 -0.19645    -0.209108        -0.515042          -0.757855   \n",
       "\n",
       "   month_aug  month_jul  month_may  month_nov  poutcome_nonexistent  \n",
       "0  -0.420234  -0.459331  -0.709185  -0.333783             -2.511053  \n",
       "1  -0.420234   2.177080  -0.709185  -0.333783              0.398239  \n",
       "2  -0.420234   2.177080  -0.709185  -0.333783              0.398239  \n",
       "3  -0.420234  -0.459331  -0.709185  -0.333783              0.398239  \n",
       "4  -0.420234   2.177080  -0.709185  -0.333783              0.398239  "
      ]
     },
     "execution_count": 128,
     "metadata": {},
     "output_type": "execute_result"
    }
   ],
   "source": [
    "from sklearn import datasets\n",
    "from sklearn.feature_selection import RFE\n",
    "from sklearn.linear_model import LogisticRegression\n",
    "logreg = LogisticRegression(solver='lbfgs')\n",
    "\n",
    "rfe = RFE(logreg, 10)\n",
    "rfe = rfe.fit(os_data_X, os_data_y)\n",
    "col_list = zip(os_data_X.columns, rfe.support_)\n",
    "X_new_cols = [x[0] for x in col_list if x[1]==True]\n",
    "# print(X_new_cols)\n",
    "X_new = os_data_X[X_new_cols]\n",
    "print(X_new.shape)\n",
    "X_new.head()"
   ]
  },
  {
   "cell_type": "code",
   "execution_count": 129,
   "metadata": {},
   "outputs": [
    {
     "name": "stdout",
     "output_type": "stream",
     "text": [
      "score = 0.694\n",
      "precision = 0.745\n",
      "recall = 0.591\n",
      "accuracy = 0.745\n",
      "f1 score = 0.659\n"
     ]
    }
   ],
   "source": [
    "#Try applying new feature list into vanilla regression\n",
    "rfe_lr = LogisticRegression(C = 1e9, solver='newton-cg', max_iter=1000)\n",
    "rfe_lr.fit(X_new, os_data_y)\n",
    "rfe_pred = rfe_lr.predict(X_new)\n",
    "\n",
    "print(f\"score = {np.round(rfe_lr.score(X_new, os_data_y), 3)}\")\n",
    "rfe_lst = logistic_regression.print_metrics(os_data_y, rfe_pred)"
   ]
  },
  {
   "cell_type": "markdown",
   "metadata": {},
   "source": [
    "## Step 9: Regularization and kFold Cross-Validation -- Using SMOTE'd data\n",
    "\n",
    "don't run this, it will take time"
   ]
  },
  {
   "cell_type": "code",
   "execution_count": 131,
   "metadata": {},
   "outputs": [
    {
     "name": "stdout",
     "output_type": "stream",
     "text": [
      "Means:\n",
      "Vanilla regularization:  [0.70812378 0.7077902 ]\n",
      "l1 regularization:  [0.70825968 0.7074994 ]\n",
      "l2 regularixation:  [0.70812378 0.7077902 ]\n",
      "------------------------------------\n",
      "Standard deviation\n",
      "Vanila regularization:  [0.00064051 0.00233532]\n",
      "l1 regularization:  [0.00045885 0.00288845]\n",
      "l2 regularixation:  [0.00064051 0.00233532]\n"
     ]
    }
   ],
   "source": [
    "# Vanilla \n",
    "vanilla_result, vanilla_lr, vanilla_cv = logistic_regression.cross_validation(n=5, shuffle=True,\n",
    "                                                                             lr='vanilla',\n",
    "                                                                             X_train=os_data_X,\n",
    "                                                                             y_train=os_data_y)\n",
    "# Ridge (l2)\n",
    "l2_result, l2_reg, cv_l2 = logistic_regression.cross_validation(n=5, shuffle=True,\n",
    "                                                                lr='l2',\n",
    "                                                                X_train=os_data_X,\n",
    "                                                                y_train=os_data_y)\n",
    "# Lasso (l1)\n",
    "l1_result, l1_reg, cv_l1 = logistic_regression.cross_validation(n=10, shuffle=True,\n",
    "                                                                lr='l1',\n",
    "                                                                X_train=os_data_X,\n",
    "                                                                y_train=os_data_y)\n",
    "# calculate the mean\n",
    "print('Means:')\n",
    "print('Vanilla regularization: ', vanilla_result.mean(axis=0))\n",
    "print('l1 regularization: ', l1_result.mean(axis=0))\n",
    "print('l2 regularixation: ', l2_result.mean(axis=0))\n",
    "\n",
    "# calculate the std\n",
    "print('------------------------------------')\n",
    "print(\"Standard deviation\")\n",
    "print('Vanila regularization: ', vanilla_result.std(axis=0))\n",
    "print('l1 regularization: ', l1_result.std(axis=0))\n",
    "print('l2 regularixation: ', l2_result.std(axis=0))"
   ]
  },
  {
   "cell_type": "markdown",
   "metadata": {},
   "source": [
    "## Step 10: l2 Regularization -- Using SMOTE'd data"
   ]
  },
  {
   "cell_type": "code",
   "execution_count": null,
   "metadata": {},
   "outputs": [],
   "source": [
    "# for i in [1e9, 1e2, 1, 1e-2, 1e-9]:\n",
    "#     l1_reg = LogisticRegression(C=i, solver='saga', penalty='l1', max_iter=1000)\n",
    "#     cv_l1 = cross_validate(estimator=l1_reg, X=os_data_X, y=y_train, cv=os_data_y, n_jobs=-1, return_estimator=True,\n",
    "#                                return_train_score=True)\n",
    "#     l1_result = np.concatenate((cv_l1['train_score'].reshape(-1, 1),\n",
    "#                                 cv_l1['test_score'].reshape(-1, 1)), axis=1)\n",
    "\n",
    "#     return l1_result, l1_reg, cv_l1"
   ]
  },
  {
   "cell_type": "code",
   "execution_count": 132,
   "metadata": {},
   "outputs": [],
   "source": [
    "l1_mean_lst = []\n",
    "l1_std_lst = []\n",
    "for i in [1e9, 1e2, 1, 1e-2, 1e-9]:\n",
    "    l1_result, l1_reg, cv_l1 = logistic_regression.cross_validation(n=5, shuffle=True, lr='l1',\n",
    "                                                                    X_train=os_data_X,\n",
    "                                                                    y_train=os_data_y,\n",
    "                                                                    C = i)\n",
    "    l1_mean_lst.append(l1_result.mean(axis=0))\n",
    "    l1_std_lst.append(l1_result.std(axis=0))\n",
    "#     print(f\"C={i} result: {l1_result}\")"
   ]
  },
  {
   "cell_type": "code",
   "execution_count": 133,
   "metadata": {},
   "outputs": [],
   "source": [
    "y_std_plot = [x[0] for x in l1_std_lst]\n",
    "y_mean_plot = [x[0] for x in l1_mean_lst]"
   ]
  },
  {
   "cell_type": "code",
   "execution_count": null,
   "metadata": {},
   "outputs": [],
   "source": [
    "l2_mean_lst = []\n",
    "l2_std_lst = []\n",
    "for i in [1e9, 1e2, 1, 1e-2, 1e-9]:\n",
    "    l2_result, l2_reg, cv_l2 = logistic_regression.cross_validation(n=5, shuffle=True, lr='l2',\n",
    "                                                                    X_train=os_data_X,\n",
    "                                                                    y_train=os_data_y,\n",
    "                                                                    C = i)\n",
    "    l2_mean_lst.append(l2_result.mean(axis=0))\n",
    "    l2_std_lst.append(l2_result.std(axis=0))\n",
    "#     print(f\"C={i} result: {l2_result}\") #, l1_reg, cv_l1 )"
   ]
  },
  {
   "cell_type": "code",
   "execution_count": null,
   "metadata": {},
   "outputs": [],
   "source": [
    "y_l2_std_plot = [x[0] for x in l2_std_lst]\n",
    "y_l2_mean_plot = [x[0] for x in l2_mean_lst]\n",
    "print(y_l2_std_plot)\n",
    "print(y_l2_mean_plot)"
   ]
  },
  {
   "cell_type": "code",
   "execution_count": null,
   "metadata": {},
   "outputs": [],
   "source": []
  },
  {
   "cell_type": "code",
   "execution_count": null,
   "metadata": {},
   "outputs": [],
   "source": []
  },
  {
   "cell_type": "markdown",
   "metadata": {},
   "source": [
    "## Step 11: l2 Regularization with C=100"
   ]
  },
  {
   "cell_type": "code",
   "execution_count": 10,
   "metadata": {},
   "outputs": [
    {
     "name": "stdout",
     "output_type": "stream",
     "text": [
      "precision = 0.754\n",
      "recall = 0.617\n",
      "accuracy = 0.754\n",
      "f1 score = 0.679\n"
     ]
    },
    {
     "data": {
      "text/html": [
       "<div>\n",
       "<style scoped>\n",
       "    .dataframe tbody tr th:only-of-type {\n",
       "        vertical-align: middle;\n",
       "    }\n",
       "\n",
       "    .dataframe tbody tr th {\n",
       "        vertical-align: top;\n",
       "    }\n",
       "\n",
       "    .dataframe thead th {\n",
       "        text-align: right;\n",
       "    }\n",
       "</style>\n",
       "<table border=\"1\" class=\"dataframe\">\n",
       "  <thead>\n",
       "    <tr style=\"text-align: right;\">\n",
       "      <th></th>\n",
       "      <th>predicted 0</th>\n",
       "      <th>predicted 1</th>\n",
       "    </tr>\n",
       "  </thead>\n",
       "  <tbody>\n",
       "    <tr>\n",
       "      <th>actual 0</th>\n",
       "      <td>23358</td>\n",
       "      <td>5871</td>\n",
       "    </tr>\n",
       "    <tr>\n",
       "      <th>actual 1</th>\n",
       "      <td>11188</td>\n",
       "      <td>18041</td>\n",
       "    </tr>\n",
       "  </tbody>\n",
       "</table>\n",
       "</div>"
      ],
      "text/plain": [
       "          predicted 0  predicted 1\n",
       "actual 0        23358         5871\n",
       "actual 1        11188        18041"
      ]
     },
     "execution_count": 10,
     "metadata": {},
     "output_type": "execute_result"
    }
   ],
   "source": [
    "# from sklearn.linear_model import LogisticRegression\n",
    "l2_reg = LogisticRegression(C=100, solver='newton-cg', max_iter=1000)\n",
    "l2_reg.fit(X=os_data_X, y=os_data_y)\n",
    "l2_reg_pred = l2_reg.predict(os_data_X)\n",
    "from sklearn.metrics import confusion_matrix\n",
    "conf_matrix = pd.DataFrame(confusion_matrix(y_true=os_data_y,\n",
    "                                            y_pred=l2_reg_pred),\n",
    "                           index= ['actual 0', 'actual 1'],\n",
    "                           columns= ['predicted 0', 'predicted 1']) \n",
    "logistic_regression.print_metrics(y_train=os_data_y, y_hat=l2_reg_pred)\n",
    "conf_matrix"
   ]
  },
  {
   "cell_type": "code",
   "execution_count": 17,
   "metadata": {},
   "outputs": [
    {
     "name": "stdout",
     "output_type": "stream",
     "text": [
      "precision = 0.754\n",
      "recall = 0.617\n",
      "accuracy = 0.754\n",
      "f1 score = 0.679\n",
      "None\n"
     ]
    },
    {
     "data": {
      "image/png": "[encoded data removed]",
      "text/plain": [
       "<Figure size 432x288 with 1 Axes>"
      ]
     },
     "metadata": {
      "needs_background": "light"
     },
     "output_type": "display_data"
    },
    {
     "data": {
      "text/plain": [
       "<matplotlib.axes._subplots.AxesSubplot at 0x1c24c08160>"
      ]
     },
     "execution_count": 17,
     "metadata": {},
     "output_type": "execute_result"
    }
   ],
   "source": [
    "print(logistic_regression.print_metrics(y_train=os_data_y, y_hat=l2_reg_pred))\n",
    "cm = ConfusionMatrix(l2_reg, cmap='PuBu', fontsize=14)\n",
    "cm.fit(os_data_X, os_data_y)\n",
    "cm.score(os_data_X, os_data_y)\n",
    "cm.show()"
   ]
  },
  {
   "cell_type": "code",
   "execution_count": 20,
   "metadata": {},
   "outputs": [
    {
     "name": "stdout",
     "output_type": "stream",
     "text": [
      "(0.07082007595196549, 0.4402819117999247, 0.67)\n"
     ]
    },
    {
     "data": {
      "image/png": "[encoded data removed]",
      "text/plain": [
       "<Figure size 720x576 with 1 Axes>"
      ]
     },
     "metadata": {
      "needs_background": "light"
     },
     "output_type": "display_data"
    }
   ],
   "source": [
    "fpr, tpr, cost, thres = logistic_regression.minimize_cost(lr=l2_reg, X_train=os_data_X, y_train=os_data_y)\n",
    "cost_idx = np.argmin(cost) # returns the minimum\n",
    "min_cost_threshold = fpr[cost_idx], tpr[cost_idx], thres[cost_idx]\n",
    "print(min_cost_threshold)\n",
    "\n",
    "import logistic_regression_plots\n",
    "logit_roc_auc = roc_auc_score(os_data_y, l2_reg.predict(os_data_X)) # area\n",
    "fpr_lst, tpr_lst, thresholds = roc_curve(os_data_y, l2_reg.predict_proba(os_data_X)[:,1])\n",
    "logistic_regression_plots.plot_threshold(min_cost_threshold,fpr=fpr_lst, tpr=tpr_lst )"
   ]
  },
  {
   "cell_type": "code",
   "execution_count": 28,
   "metadata": {},
   "outputs": [
    {
     "name": "stdout",
     "output_type": "stream",
     "text": [
      "precision = 0.861\n",
      "recall = 0.44\n",
      "accuracy = 0.861\n",
      "f1 score = 0.583\n",
      "None\n"
     ]
    },
    {
     "data": {
      "image/png": "[encoded data removed]",
      "text/plain": [
       "<Figure size 432x288 with 1 Axes>"
      ]
     },
     "metadata": {
      "needs_background": "light"
     },
     "output_type": "display_data"
    },
    {
     "data": {
      "text/plain": [
       "<matplotlib.axes._subplots.AxesSubplot at 0x1c27ee29e8>"
      ]
     },
     "execution_count": 28,
     "metadata": {},
     "output_type": "execute_result"
    }
   ],
   "source": [
    "# working with 0.67 threshold\n",
    "y_hat_thres = 1*(l2_reg.predict_proba(os_data_X)[:,1] >= 0.67)\n",
    "\n",
    "print(logistic_regression.print_metrics(y_train=os_data_y, y_hat=y_hat_thres))\n",
    "\n",
    "cm1 = ConfusionMatrix(l2_reg, cmap='PuBu', fontsize=14)\n",
    "cm1.fit(os_data_X, os_data_y)\n",
    "cm1.score(os_data_X, os_data_y)\n",
    "cm1.show()\n",
    "\n",
    "# cm = ConfusionMatrix(model, cmap='PuBu', fontsize=14)\n",
    "\n",
    "# # Fit fits the passed model. This is unnecessary if you pass the visualizer a pre-fitted model\n",
    "# cm.fit(os_data_X, y_hat_thres)\n",
    "\n",
    "# # To create the ConfusionMatrix, we need some test data. Score runs predict() on the data\n",
    "# # and then creates the confusion_matrix from scikit-learn.\n",
    "# cm.score(os_data_X, y_hat_thres)\n",
    "\n",
    "# How did we do?\n",
    "# cm.show()"
   ]
  },
  {
   "cell_type": "code",
   "execution_count": null,
   "metadata": {},
   "outputs": [],
   "source": [
    "precision = 0.861\n",
    "recall = 0.44\n",
    "accuracy = 0.861\n",
    "f1 score = 0.583"
   ]
  },
  {
   "cell_type": "code",
   "execution_count": 111,
   "metadata": {},
   "outputs": [],
   "source": [
    "x_list = []\n",
    "y_list = []\n",
    "lr = l2_reg\n",
    "\n",
    "for x in np.linspace(0, 1, 100):\n",
    "    \n",
    "    # Same predictions based on predict_proba thresholds\n",
    "    predicts = []\n",
    "    \n",
    "    for item in l2_reg.predict_proba(os_data_X):\n",
    "        if item[0] <= x:\n",
    "            predicts.append(1)\n",
    "        else:\n",
    "            predicts.append(0)\n",
    "\n",
    "    conf_matrix = pd.DataFrame(confusion_matrix(os_data_y, predicts), index = ['actual 0', 'actual 1'], \n",
    "                     columns = ['predicted 0', 'predicted 1'])\n",
    "    \n",
    "    \n",
    "    # Assign TP, TN, FP, FN\n",
    "    true_positives = conf_matrix['predicted 1'][1]\n",
    "    true_negatives = conf_matrix['predicted 0'][0]\n",
    "    false_positives = conf_matrix['predicted 1'][0]\n",
    "    false_negatives = conf_matrix['predicted 0'][1]\n",
    "\n",
    "    \n",
    "    # Calculate Sensitivity and Specificity\n",
    "    recall = true_positives / (true_positives + false_negatives)\n",
    "\n",
    "    precision = true_positives / (true_positives + false_positives)\n",
    "    \n",
    "    \n",
    "    # Append to lists to graph\n",
    "    x_list.append((recall,x))\n",
    "\n",
    "    y_list.append((precision,x))"
   ]
  },
  {
   "cell_type": "code",
   "execution_count": 115,
   "metadata": {},
   "outputs": [
    {
     "data": {
      "image/png": "[encoded data removed]",
      "text/plain": [
       "<Figure size 720x576 with 1 Axes>"
      ]
     },
     "metadata": {
      "needs_background": "light"
     },
     "output_type": "display_data"
    }
   ],
   "source": [
    "\n",
    "plt.figure(figsize = (10, 8))\n",
    "plt.title('ROC Curve', fontsize = 20)\n",
    "plt.xlabel('FP_rate', fontsize = 15)\n",
    "plt.ylabel('TP_rate', fontsize = 15)\n",
    "plt.xlim(-0.01, 1)\n",
    "plt.ylim(-0.01, 1)\n",
    "plt.plot(x_list, y_list);\n",
    "plt.plot([1, 0], [0, 1]);"
   ]
  },
  {
   "cell_type": "code",
   "execution_count": 101,
   "metadata": {},
   "outputs": [
    {
     "data": {
      "text/plain": [
       "23912"
      ]
     },
     "execution_count": 101,
     "metadata": {},
     "output_type": "execute_result"
    }
   ],
   "source": [
    "(l2_reg.predict_proba(os_data_X)[:,0]<0.5).sum()"
   ]
  },
  {
   "cell_type": "code",
   "execution_count": null,
   "metadata": {},
   "outputs": [],
   "source": []
  },
  {
   "cell_type": "markdown",
   "metadata": {},
   "source": [
    "precision = 0.754\n",
    "recall = 0.617\n",
    "accuracy = 0.754\n",
    "f1 score = 0.679"
   ]
  },
  {
   "cell_type": "code",
   "execution_count": 46,
   "metadata": {},
   "outputs": [],
   "source": [
    "# 23358\t5871\n",
    "# actual 1\t11188\t18041\n",
    "model = LogisticRegression()\n",
    "model.fit(X=os_data_X, y=os_data_y)\n",
    "y_test = model.predict(os_data_X)"
   ]
  },
  {
   "cell_type": "code",
   "execution_count": 48,
   "metadata": {},
   "outputs": [
    {
     "data": {
      "image/png": "[encoded data removed]",
      "text/plain": [
       "<Figure size 720x720 with 1 Axes>"
      ]
     },
     "metadata": {
      "needs_background": "light"
     },
     "output_type": "display_data"
    }
   ],
   "source": [
    "import logistic_regression_plots\n",
    "logistic_regression_plots.nice_confusion(model, X_train=os_data_X, y_train=os_data_y,\n",
    "                                        X_test=os_data_X, y_test=y_hat_thres)"
   ]
  },
  {
   "cell_type": "code",
   "execution_count": 106,
   "metadata": {},
   "outputs": [
    {
     "data": {
      "text/plain": [
       "LogisticRegression(C=100, class_weight=None, dual=False, fit_intercept=True,\n",
       "                   intercept_scaling=1, l1_ratio=None, max_iter=1000,\n",
       "                   multi_class='warn', n_jobs=None, penalty='l2',\n",
       "                   random_state=None, solver='newton-cg', tol=0.0001, verbose=0,\n",
       "                   warm_start=False)"
      ]
     },
     "execution_count": 106,
     "metadata": {},
     "output_type": "execute_result"
    }
   ],
   "source": [
    "l2_reg"
   ]
  },
  {
   "cell_type": "code",
   "execution_count": 105,
   "metadata": {},
   "outputs": [
    {
     "data": {
      "image/png": "[encoded data removed]",
      "text/plain": [
       "<Figure size 432x288 with 1 Axes>"
      ]
     },
     "metadata": {
      "needs_background": "light"
     },
     "output_type": "display_data"
    },
    {
     "data": {
      "text/plain": [
       "<matplotlib.axes._subplots.AxesSubplot at 0x1c2e507e48>"
      ]
     },
     "execution_count": 105,
     "metadata": {},
     "output_type": "execute_result"
    }
   ],
   "source": [
    "# The ConfusionMatrix visualizer taxes a model\n",
    "cm = ConfusionMatrix(model, cmap='PuBu', fontsize=14)\n",
    "\n",
    "# Fit fits the passed model. This is unnecessary if you pass the visualizer a pre-fitted model\n",
    "cm.fit(os_data_X, os_data_y)\n",
    "\n",
    "# To create the ConfusionMatrix, we need some test data. Score runs predict() on the data\n",
    "# and then creates the confusion_matrix from scikit-learn.\n",
    "cm.score(os_data_X, os_data_y)\n",
    "\n",
    "# How did we do?\n",
    "cm.show()"
   ]
  },
  {
   "cell_type": "code",
   "execution_count": 61,
   "metadata": {},
   "outputs": [
    {
     "data": {
      "image/png": "[encoded data removed]",
      "text/plain": [
       "<Figure size 432x288 with 1 Axes>"
      ]
     },
     "metadata": {
      "needs_background": "light"
     },
     "output_type": "display_data"
    },
    {
     "data": {
      "text/plain": [
       "<matplotlib.axes._subplots.AxesSubplot at 0x1c2e07fa20>"
      ]
     },
     "execution_count": 61,
     "metadata": {},
     "output_type": "execute_result"
    }
   ],
   "source": [
    "# The ConfusionMatrix visualizer taxes a model\n",
    "cm = ConfusionMatrix(model, cmap='PuBu', fontsize=14)\n",
    "\n",
    "# Fit fits the passed model. This is unnecessary if you pass the visualizer a pre-fitted model\n",
    "cm.fit(os_data_X, y_hat_thres)\n",
    "\n",
    "# To create the ConfusionMatrix, we need some test data. Score runs predict() on the data\n",
    "# and then creates the confusion_matrix from scikit-learn.\n",
    "cm.score(os_data_X, y_hat_thres)\n",
    "\n",
    "# How did we do?\n",
    "cm.show()"
   ]
  },
  {
   "cell_type": "code",
   "execution_count": null,
   "metadata": {},
   "outputs": [],
   "source": []
  },
  {
   "cell_type": "code",
   "execution_count": null,
   "metadata": {},
   "outputs": [],
   "source": [
    "# import logistic_regression_plots\n",
    "# logistic_regression_plots.nice_confusion(l2_reg)"
   ]
  },
  {
   "cell_type": "code",
   "execution_count": null,
   "metadata": {},
   "outputs": [],
   "source": [
    "fpr, tpr, cost, thres = logistic_regression.minimize_cost(lr=l2_reg, X_train=os_data_X, y_train=os_data_y)"
   ]
  },
  {
   "cell_type": "code",
   "execution_count": null,
   "metadata": {},
   "outputs": [],
   "source": [
    "cost_idx = np.argmin(cost) # returns the minimum\n",
    "min_cost_threshold = fpr[cost_idx], tpr[cost_idx], thres[cost_idx]\n",
    "\n",
    "print(min_cost_threshold)"
   ]
  },
  {
   "cell_type": "code",
   "execution_count": null,
   "metadata": {},
   "outputs": [],
   "source": [
    "ax = plt.figure(figsize = (10, 8))\n",
    "plt.title('ROC Curve', fontsize = 20)\n",
    "plt.xlabel('FP_rate (1 - specificity)', fontsize = 15)\n",
    "plt.ylabel('TP_rate (sensitivity)', fontsize = 15)\n",
    "plt.xlim(-.01, 1.01)\n",
    "plt.ylim(-.01, 1.01)\n",
    "plt.plot(fpr, tpr);\n",
    "plt.plot([0, 1], [0, 1]);\n",
    "plt.scatter(min_cost_threshold[0], min_cost_threshold[1], marker ='o', color = 'red', s=250)\n",
    "ax.text(min_cost_threshold[0] + 0.06, min_cost_threshold[1] - 0.03, 'Threshold:'+ str(round(min_cost_threshold[2], 2)))\n"
   ]
  },
  {
   "cell_type": "code",
   "execution_count": null,
   "metadata": {},
   "outputs": [],
   "source": [
    "logistic_regression_plots.plot_threshold(min_cost_threshold, fpr=fpr, tpr=tpr)"
   ]
  },
  {
   "cell_type": "code",
   "execution_count": null,
   "metadata": {},
   "outputs": [],
   "source": [
    "logit_roc_auc = roc_auc_score(y_test, model_RF_dummy_under.predict(X_test_LabelEncoder))\n",
    "#fpr = false positive, #tpr = true positive\n",
    "fpr, tpr, thresholds = roc_curve(y_test, model_RF_dummy_under.predict_proba(X_test_LabelEncoder)[:,1])\n",
    "plt.figure()\n",
    "plt.plot(fpr, tpr, label='Logistic Regression (area = %0.2f)' % logit_roc_auc)\n",
    "plt.plot([0, 1], [0, 1],'r--')\n",
    "plt.xlabel('False Positive Rate')\n",
    "plt.ylabel('True Positive Rate')\n",
    "plt.title('Receiver operating characteristic')\n",
    "plt.legend(loc=\"lower right\")\n",
    "plt.show()"
   ]
  },
  {
   "cell_type": "code",
   "execution_count": null,
   "metadata": {},
   "outputs": [],
   "source": [
    "1*(l2_reg.predict_proba(os_data_X)[:,1] >= 0.5)"
   ]
  },
  {
   "cell_type": "code",
   "execution_count": null,
   "metadata": {},
   "outputs": [],
   "source": [
    "y_hat_new = 1*(l2_reg.predict_proba(os_data_X)[:,1] >= 0.67)"
   ]
  },
  {
   "cell_type": "code",
   "execution_count": null,
   "metadata": {},
   "outputs": [],
   "source": [
    "l2_reg.predict(os_data_X)"
   ]
  },
  {
   "cell_type": "code",
   "execution_count": null,
   "metadata": {},
   "outputs": [],
   "source": [
    "from sklearn.metrics import confusion_matrix\n",
    "# confusion_matrix(y_true=os_data_y, y_pred=l2_reg_pred)\n",
    "\n",
    "conf_matrix = pd.DataFrame(confusion_matrix(os_data_y,y_hat_new),\n",
    "                                   index= ['actual 0', 'actual 1'],\n",
    "                                  columns= ['predicted 0', 'predicted 1']) \n",
    "conf_matrix"
   ]
  },
  {
   "cell_type": "code",
   "execution_count": null,
   "metadata": {},
   "outputs": [],
   "source": [
    "23358\t5871\n",
    "actual 1\t11188\t18041"
   ]
  },
  {
   "cell_type": "code",
   "execution_count": null,
   "metadata": {},
   "outputs": [],
   "source": []
  },
  {
   "cell_type": "code",
   "execution_count": null,
   "metadata": {},
   "outputs": [],
   "source": []
  },
  {
   "cell_type": "markdown",
   "metadata": {},
   "source": [
    "## logit "
   ]
  },
  {
   "cell_type": "code",
   "execution_count": null,
   "metadata": {},
   "outputs": [],
   "source": []
  },
  {
   "cell_type": "code",
   "execution_count": null,
   "metadata": {
    "scrolled": true
   },
   "outputs": [],
   "source": [
    "X_col = X_train.columns\n",
    "X_df = pd.DataFrame(data=os_data_X, columns=X_col)\n",
    "y_df = pd.DataFrame(data=os_data_y, columns=['Sub'])\n",
    "\n",
    "# os_data_X_df.head()\n",
    "print(type(X_df))\n",
    "print(type(y_df))\n"
   ]
  },
  {
   "cell_type": "code",
   "execution_count": null,
   "metadata": {},
   "outputs": [],
   "source": [
    "data_y = os_data_y.reshape(-1,1)\n",
    "data_y.shape"
   ]
  },
  {
   "cell_type": "code",
   "execution_count": null,
   "metadata": {},
   "outputs": [],
   "source": [
    "import statsmodels.api as sm\n",
    "logit_model=sm.Logit(X_df[X_col], data_y).fit()\n",
    "# result = logit_model.fit()\n",
    "print(logit_model.summary2())\n",
    "# result.summary()\n",
    "\n",
    "# Create, fit model\n",
    "#     mod = sm.Logit(endog=y_train, exog=X_train)\n",
    "#     res = mod.fit(method='bfgs', maxiter=100)"
   ]
  },
  {
   "cell_type": "code",
   "execution_count": null,
   "metadata": {},
   "outputs": [],
   "source": []
  },
  {
   "cell_type": "code",
   "execution_count": null,
   "metadata": {},
   "outputs": [],
   "source": []
  },
  {
   "cell_type": "code",
   "execution_count": null,
   "metadata": {},
   "outputs": [],
   "source": []
  },
  {
   "cell_type": "markdown",
   "metadata": {},
   "source": [
    "#### SM model"
   ]
  },
  {
   "cell_type": "code",
   "execution_count": null,
   "metadata": {},
   "outputs": [],
   "source": []
  },
  {
   "cell_type": "code",
   "execution_count": null,
   "metadata": {},
   "outputs": [],
   "source": [
    "import statsmodels.api as sm\n",
    "logit_model = sm.Logit(os_data_y, X_new)\n",
    "result = logit_model.fit()\n",
    "print(result.summary())"
   ]
  },
  {
   "cell_type": "markdown",
   "metadata": {},
   "source": [
    "### Cross validation"
   ]
  },
  {
   "cell_type": "code",
   "execution_count": null,
   "metadata": {},
   "outputs": [],
   "source": [
    "## To get our baseline, we'll do a 'vanilla' case - no regularization.\n",
    "## In this case, we do not scale our data\n",
    "logreg_vanilla = LogisticRegression(C=1e9, solver='newton-cg')\n",
    "logreg_vanilla.fit(os_data_X, os_data_y)\n",
    "y_hat_vanilla = logreg_vanilla.predict(X=os_data_X)\n"
   ]
  },
  {
   "cell_type": "code",
   "execution_count": null,
   "metadata": {},
   "outputs": [],
   "source": [
    "print_metrics(os_data_y, y_hat_vanilla)"
   ]
  },
  {
   "cell_type": "markdown",
   "metadata": {},
   "source": [
    "#### For vanilla"
   ]
  },
  {
   "cell_type": "code",
   "execution_count": null,
   "metadata": {},
   "outputs": [],
   "source": [
    "# import logistic_regression as lr\n",
    "# vanilla_result = lr.cross_validation(n=10, shuffle=True, lr='vanilla', X_train=os_data_X, y_train=os_data_y)\n",
    "# vanilla_result"
   ]
  },
  {
   "cell_type": "markdown",
   "metadata": {},
   "source": [
    "#### For l2"
   ]
  },
  {
   "cell_type": "code",
   "execution_count": null,
   "metadata": {},
   "outputs": [],
   "source": [
    "# l2_result = lr.cross_validation(n=10, shuffle=True, lr='l2', X_train=os_data_X, y_train=os_data_y)\n",
    "# l2_result"
   ]
  },
  {
   "cell_type": "code",
   "execution_count": null,
   "metadata": {},
   "outputs": [],
   "source": [
    "l2_reg = LogisticRegression(C=1, solver='newton-cg', class_weight='balanced', max_iter=1000)\n",
    "l2_reg.fit(os_data_X, os_data_y)\n",
    "l2_reg_prd = l2_reg.predict(os_data_X)\n",
    "print_metrics(os_data_y, l2_reg_prd,lr_reg=l2_reg)"
   ]
  },
  {
   "cell_type": "markdown",
   "metadata": {},
   "source": [
    "#### For l1"
   ]
  },
  {
   "cell_type": "code",
   "execution_count": null,
   "metadata": {},
   "outputs": [],
   "source": [
    "l1_reg = LogisticRegression(C=1, solver='saga',penalty='l1', max_iter=1000)\n",
    "l1_reg.fit(os_data_X, os_data_y)\n",
    "l1_reg_prd = l1_reg.predict(os_data_X)\n",
    "print_metrics(os_data_y, l1_reg_prd, lr_reg=l1_reg)"
   ]
  },
  {
   "cell_type": "code",
   "execution_count": null,
   "metadata": {},
   "outputs": [],
   "source": [
    "l1_result = lr.cross_validation(n=10, shuffle=True, lr='l1', X_train=os_data_X, y_train=os_data_y)\n",
    "l1_result"
   ]
  },
  {
   "cell_type": "code",
   "execution_count": null,
   "metadata": {},
   "outputs": [],
   "source": [
    "# calculate the mean\n",
    "print('vanilla regularization', vanilla_result.mean(axis=0))\n",
    "print('l1 regularization', l1_result.mean(axis=0))\n",
    "print('l2 regularixation', l2_result.mean(axis=0))"
   ]
  },
  {
   "cell_type": "code",
   "execution_count": null,
   "metadata": {},
   "outputs": [],
   "source": [
    "# calculate the std\n",
    "print('vanilla regularization', vanilla_result.std(axis=0))\n",
    "print('l1 regularization', l1_result.std(axis=0))\n",
    "print('l2 regularixation', l2_result.std(axis=0))"
   ]
  },
  {
   "cell_type": "code",
   "execution_count": null,
   "metadata": {},
   "outputs": [],
   "source": [
    "y_hat_df = pd.DataFrame(data=y_hat, columns=['y_hat'])\n",
    "y_hat_df.y_hat.value_counts(normalize=True)"
   ]
  },
  {
   "cell_type": "code",
   "execution_count": null,
   "metadata": {},
   "outputs": [],
   "source": [
    "true_posetive = np.count_nonzero(y_hat)\n",
    "accuracy = true_posetive/len(y_hat)\n",
    "print('accuracy', accuracy)\n",
    "print('values', len(y_hat))\n"
   ]
  },
  {
   "cell_type": "markdown",
   "metadata": {},
   "source": [
    "## Step 4: Modify data for Machine Learning"
   ]
  },
  {
   "cell_type": "code",
   "execution_count": null,
   "metadata": {
    "scrolled": true
   },
   "outputs": [],
   "source": [
    "X_train.head()"
   ]
  },
  {
   "cell_type": "code",
   "execution_count": null,
   "metadata": {},
   "outputs": [],
   "source": [
    "bank_clean.columns"
   ]
  },
  {
   "cell_type": "code",
   "execution_count": null,
   "metadata": {},
   "outputs": [],
   "source": [
    "dummed_train = pd.get_dummies(X_train, \n",
    "               columns = ['job', 'marital', 'education', 'default', 'housing', 'loan', 'contact', 'season', 'day_of_week', 'poutcome'], \n",
    "               drop_first= True)"
   ]
  },
  {
   "cell_type": "code",
   "execution_count": null,
   "metadata": {},
   "outputs": [],
   "source": [
    "dummed_train.head()\n",
    "print(dummed_train.shape)\n",
    "print(dummed_train.columns)"
   ]
  },
  {
   "cell_type": "code",
   "execution_count": null,
   "metadata": {},
   "outputs": [],
   "source": [
    "# calculate for age\n",
    "mu, std = dummed_train.age.mean(), dummed_train.age.std()\n",
    "print('mean age', mu, 'age std', std)\n",
    "print('Standardized value for the first row is:', (dummed_train.age[1233]-mu)/std)\n",
    "print(dummed_train.age[1233])\n",
    "dummed_train.head()"
   ]
  },
  {
   "cell_type": "markdown",
   "metadata": {},
   "source": [
    "## Step 7: Logistic Regression"
   ]
  },
  {
   "cell_type": "code",
   "execution_count": null,
   "metadata": {},
   "outputs": [],
   "source": [
    "## To get our baseline, we'll do a 'vanilla' case - no regularization.\n",
    "## In this case, we do not scale our data\n",
    "logreg = LogisticRegression(class_weight='balanced', solver='newton-cg')\n",
    "logreg.fit(dummed_train, y_train)"
   ]
  },
  {
   "cell_type": "code",
   "execution_count": null,
   "metadata": {},
   "outputs": [],
   "source": [
    "print(logreg.score(dummed_train, y_train))"
   ]
  },
  {
   "cell_type": "code",
   "execution_count": null,
   "metadata": {},
   "outputs": [],
   "source": [
    "\n",
    "#Standard Scaler to be used within pipelines.  \n",
    "class StScaler(StandardScaler):\n",
    "    def fit_transform(slf,X,y=None):\n",
    "        print(f\"transformed rows: {len(X)}\")\n",
    "        return super().fit_transform(X,y)\n",
    "\n",
    "#Using pipeline to avoid data leakage within CV process \n",
    "pipe = Pipeline([\n",
    "    ('scaler', StScaler()),\n",
    "    ('logreg', LogisticRegression(C = 1e9, \n",
    "                                 solver = 'newton-cg',\n",
    "                                 max_iter = 1000,\n",
    "                                 class_weight = 'balanced'))\n",
    "])\n",
    "\n",
    "print(f\"train data length: {len(dummed_train)} rows\")\n",
    "print(cross_val_score(pipe,dummed_train,y_train, cv=5))"
   ]
  },
  {
   "cell_type": "markdown",
   "metadata": {},
   "source": [
    "## Step 8: Parameter Tuning"
   ]
  },
  {
   "cell_type": "code",
   "execution_count": null,
   "metadata": {},
   "outputs": [],
   "source": [
    "#GridSearchCV for parameter tuning\n",
    "\n",
    "# param_grid = {''}\n",
    "\n",
    "# search = GridSearchCV(estimator=pipe,\n",
    "#                       cv=5,\n",
    "#                       param_grid=\n",
    "#                       return_train_score=True)\n",
    "\n",
    "# search.fit(X_train, y_train)\n"
   ]
  }
 ],
 "metadata": {
  "kernelspec": {
   "display_name": "Python 3",
   "language": "python",
   "name": "python3"
  },
  "language_info": {
   "codemirror_mode": {
    "name": "ipython",
    "version": 3
   },
   "file_extension": ".py",
   "mimetype": "text/x-python",
   "name": "python",
   "nbconvert_exporter": "python",
   "pygments_lexer": "ipython3",
   "version": "3.7.3"
  },
  "toc": {
   "base_numbering": 1,
   "nav_menu": {},
   "number_sections": true,
   "sideBar": true,
   "skip_h1_title": false,
   "title_cell": "Table of Contents",
   "title_sidebar": "Contents",
   "toc_cell": false,
   "toc_position": {},
   "toc_section_display": true,
   "toc_window_display": false
  }
 },
 "nbformat": 4,
 "nbformat_minor": 2
}
