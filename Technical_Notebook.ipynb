{
 "cells": [
  {
   "cell_type": "markdown",
   "metadata": {},
   "source": [
    "## Imbalanced_Classes"
   ]
  },
  {
   "cell_type": "markdown",
   "metadata": {},
   "source": [
    "### Steps to take\n",
    "<font color='grey'>step 1: Import all the necessary python packages</font><br>\n",
    "<font color='grey'>step 2: Obtain and clean data</font> <br>\n",
    "<font color='grey'>step 3: Data Exploration</font> <br>\n",
    "<font color='grey'>step 4: Modify data for Machine Learning</font><br>\n",
    "<font color='grey'>step 5: Get dummies</font><br>\n",
    "<font color='grey'>step 6: Split data into train and test</font><br> \n",
    "step 6: Standard scaling<br>\n",
    "step 7: Dealing with Imbalanced Data:\n",
    "- Logistic Regression \"class_weight\" parameter\n",
    "- SMOTE (oversampling)\n",
    "- Undersampling\n",
    "\n",
    "step 8: logistic regression<br>\n",
    "<font color='grey'>step 9: parameter tuning</font><br>\n",
    "<font color='grey'>step 10: provide actionable recommendations</font><br>\n",
    "\n"
   ]
  },
  {
   "cell_type": "code",
   "execution_count": 1,
   "metadata": {},
   "outputs": [],
   "source": [
    "import pandas as pd\n",
    "import numpy as np\n",
    "import matplotlib.pyplot as plt\n",
    "# plt.rc('font', size=14)\n",
    "import seaborn as sns \n",
    "# sns.set(style='white')\n",
    "# sns.set(style='whitegrid', color_codes=True)\n",
    "\n",
    "#Machine Learning Modules\n",
    "from sklearn import preprocessing\n",
    "from sklearn.linear_model import LogisticRegression\n",
    "from sklearn.metrics import confusion_matrix, auc#, classifiction_report\n",
    "from sklearn.model_selection import train_test_split, GridSearchCV\n",
    "from sklearn.model_selection import cross_validate, cross_val_score\n",
    "from sklearn.model_selection import StratifiedKFold\n",
    "from sklearn.preprocessing import StandardScaler\n",
    "from sklearn.pipeline import Pipeline\n",
    "from sklearn.metrics import f1_score, accuracy_score, recall_score, precision_score, roc_auc_score, roc_curve\n",
    "# from yellowbrick.classifier import ConfusionMatrix\n",
    "# ignore warnings\n",
    "import warnings; warnings.simplefilter('ignore')\n",
    "\n",
    "# autoreload \n",
    "%load_ext autoreload\n",
    "%autoreload 2\n",
    "\n",
    "#logistic regression script\n",
    "import logistic_regression"
   ]
  },
  {
   "cell_type": "code",
   "execution_count": 6,
   "metadata": {},
   "outputs": [],
   "source": [
    "## Load Train data from data/Train\n",
    "Train = pd.read_csv('data/Train.csv',)\n",
    "X_train = Train.drop('target', axis = 1)\n",
    "y_train = Train['target']"
   ]
  },
  {
   "cell_type": "markdown",
   "metadata": {},
   "source": [
    "## Step 6: Standard Scaling\n",
    "\n",
    "As we seen from the data, our dataset is not standardize. So, we use ```StandardScaler()``` from ```sklearn.preprocessing```"
   ]
  },
  {
   "cell_type": "code",
   "execution_count": 7,
   "metadata": {
    "scrolled": true
   },
   "outputs": [
    {
     "name": "stdout",
     "output_type": "stream",
     "text": [
      "Dataset: (32940, 45)\n"
     ]
    },
    {
     "data": {
      "text/html": [
       "<div>\n",
       "<style scoped>\n",
       "    .dataframe tbody tr th:only-of-type {\n",
       "        vertical-align: middle;\n",
       "    }\n",
       "\n",
       "    .dataframe tbody tr th {\n",
       "        vertical-align: top;\n",
       "    }\n",
       "\n",
       "    .dataframe thead th {\n",
       "        text-align: right;\n",
       "    }\n",
       "</style>\n",
       "<table border=\"1\" class=\"dataframe\">\n",
       "  <thead>\n",
       "    <tr style=\"text-align: right;\">\n",
       "      <th></th>\n",
       "      <th>age</th>\n",
       "      <th>campaign</th>\n",
       "      <th>pdays</th>\n",
       "      <th>previous</th>\n",
       "      <th>job_blue-collar</th>\n",
       "      <th>job_entrepreneur</th>\n",
       "      <th>job_housemaid</th>\n",
       "      <th>job_management</th>\n",
       "      <th>job_retired</th>\n",
       "      <th>job_self-employed</th>\n",
       "      <th>...</th>\n",
       "      <th>month_may</th>\n",
       "      <th>month_nov</th>\n",
       "      <th>month_oct</th>\n",
       "      <th>month_sep</th>\n",
       "      <th>day_of_week_mon</th>\n",
       "      <th>day_of_week_thu</th>\n",
       "      <th>day_of_week_tue</th>\n",
       "      <th>day_of_week_wed</th>\n",
       "      <th>poutcome_nonexistent</th>\n",
       "      <th>poutcome_success</th>\n",
       "    </tr>\n",
       "  </thead>\n",
       "  <tbody>\n",
       "    <tr>\n",
       "      <th>0</th>\n",
       "      <td>-0.293135</td>\n",
       "      <td>-0.564625</td>\n",
       "      <td>-0.19645</td>\n",
       "      <td>1.679762</td>\n",
       "      <td>-0.539824</td>\n",
       "      <td>-0.191649</td>\n",
       "      <td>-0.165773</td>\n",
       "      <td>-0.273916</td>\n",
       "      <td>-0.209108</td>\n",
       "      <td>-0.190026</td>\n",
       "      <td>...</td>\n",
       "      <td>-0.709185</td>\n",
       "      <td>-0.333783</td>\n",
       "      <td>-0.129585</td>\n",
       "      <td>-0.119922</td>\n",
       "      <td>-0.511124</td>\n",
       "      <td>-0.515608</td>\n",
       "      <td>-0.494967</td>\n",
       "      <td>-0.494729</td>\n",
       "      <td>-2.511053</td>\n",
       "      <td>-0.186655</td>\n",
       "    </tr>\n",
       "    <tr>\n",
       "      <th>1</th>\n",
       "      <td>-0.676809</td>\n",
       "      <td>-0.204519</td>\n",
       "      <td>-0.19645</td>\n",
       "      <td>-0.350523</td>\n",
       "      <td>-0.539824</td>\n",
       "      <td>-0.191649</td>\n",
       "      <td>-0.165773</td>\n",
       "      <td>-0.273916</td>\n",
       "      <td>-0.209108</td>\n",
       "      <td>-0.190026</td>\n",
       "      <td>...</td>\n",
       "      <td>-0.709185</td>\n",
       "      <td>-0.333783</td>\n",
       "      <td>-0.129585</td>\n",
       "      <td>-0.119922</td>\n",
       "      <td>-0.511124</td>\n",
       "      <td>-0.515608</td>\n",
       "      <td>2.020338</td>\n",
       "      <td>-0.494729</td>\n",
       "      <td>0.398239</td>\n",
       "      <td>-0.186655</td>\n",
       "    </tr>\n",
       "    <tr>\n",
       "      <th>2</th>\n",
       "      <td>-0.676809</td>\n",
       "      <td>-0.564625</td>\n",
       "      <td>-0.19645</td>\n",
       "      <td>-0.350523</td>\n",
       "      <td>-0.539824</td>\n",
       "      <td>-0.191649</td>\n",
       "      <td>-0.165773</td>\n",
       "      <td>-0.273916</td>\n",
       "      <td>-0.209108</td>\n",
       "      <td>-0.190026</td>\n",
       "      <td>...</td>\n",
       "      <td>-0.709185</td>\n",
       "      <td>-0.333783</td>\n",
       "      <td>-0.129585</td>\n",
       "      <td>-0.119922</td>\n",
       "      <td>-0.511124</td>\n",
       "      <td>-0.515608</td>\n",
       "      <td>2.020338</td>\n",
       "      <td>-0.494729</td>\n",
       "      <td>0.398239</td>\n",
       "      <td>-0.186655</td>\n",
       "    </tr>\n",
       "    <tr>\n",
       "      <th>3</th>\n",
       "      <td>-0.197216</td>\n",
       "      <td>0.155587</td>\n",
       "      <td>-0.19645</td>\n",
       "      <td>-0.350523</td>\n",
       "      <td>-0.539824</td>\n",
       "      <td>-0.191649</td>\n",
       "      <td>-0.165773</td>\n",
       "      <td>-0.273916</td>\n",
       "      <td>-0.209108</td>\n",
       "      <td>-0.190026</td>\n",
       "      <td>...</td>\n",
       "      <td>-0.709185</td>\n",
       "      <td>-0.333783</td>\n",
       "      <td>-0.129585</td>\n",
       "      <td>-0.119922</td>\n",
       "      <td>1.956473</td>\n",
       "      <td>-0.515608</td>\n",
       "      <td>-0.494967</td>\n",
       "      <td>-0.494729</td>\n",
       "      <td>0.398239</td>\n",
       "      <td>-0.186655</td>\n",
       "    </tr>\n",
       "    <tr>\n",
       "      <th>4</th>\n",
       "      <td>0.090540</td>\n",
       "      <td>-0.564625</td>\n",
       "      <td>-0.19645</td>\n",
       "      <td>-0.350523</td>\n",
       "      <td>-0.539824</td>\n",
       "      <td>-0.191649</td>\n",
       "      <td>-0.165773</td>\n",
       "      <td>-0.273916</td>\n",
       "      <td>-0.209108</td>\n",
       "      <td>-0.190026</td>\n",
       "      <td>...</td>\n",
       "      <td>-0.709185</td>\n",
       "      <td>-0.333783</td>\n",
       "      <td>-0.129585</td>\n",
       "      <td>-0.119922</td>\n",
       "      <td>1.956473</td>\n",
       "      <td>-0.515608</td>\n",
       "      <td>-0.494967</td>\n",
       "      <td>-0.494729</td>\n",
       "      <td>0.398239</td>\n",
       "      <td>-0.186655</td>\n",
       "    </tr>\n",
       "  </tbody>\n",
       "</table>\n",
       "<p>5 rows × 45 columns</p>\n",
       "</div>"
      ],
      "text/plain": [
       "        age  campaign    pdays  previous  job_blue-collar  job_entrepreneur  \\\n",
       "0 -0.293135 -0.564625 -0.19645  1.679762        -0.539824         -0.191649   \n",
       "1 -0.676809 -0.204519 -0.19645 -0.350523        -0.539824         -0.191649   \n",
       "2 -0.676809 -0.564625 -0.19645 -0.350523        -0.539824         -0.191649   \n",
       "3 -0.197216  0.155587 -0.19645 -0.350523        -0.539824         -0.191649   \n",
       "4  0.090540 -0.564625 -0.19645 -0.350523        -0.539824         -0.191649   \n",
       "\n",
       "   job_housemaid  job_management  job_retired  job_self-employed  \\\n",
       "0      -0.165773       -0.273916    -0.209108          -0.190026   \n",
       "1      -0.165773       -0.273916    -0.209108          -0.190026   \n",
       "2      -0.165773       -0.273916    -0.209108          -0.190026   \n",
       "3      -0.165773       -0.273916    -0.209108          -0.190026   \n",
       "4      -0.165773       -0.273916    -0.209108          -0.190026   \n",
       "\n",
       "         ...         month_may  month_nov  month_oct  month_sep  \\\n",
       "0        ...         -0.709185  -0.333783  -0.129585  -0.119922   \n",
       "1        ...         -0.709185  -0.333783  -0.129585  -0.119922   \n",
       "2        ...         -0.709185  -0.333783  -0.129585  -0.119922   \n",
       "3        ...         -0.709185  -0.333783  -0.129585  -0.119922   \n",
       "4        ...         -0.709185  -0.333783  -0.129585  -0.119922   \n",
       "\n",
       "   day_of_week_mon  day_of_week_thu  day_of_week_tue  day_of_week_wed  \\\n",
       "0        -0.511124        -0.515608        -0.494967        -0.494729   \n",
       "1        -0.511124        -0.515608         2.020338        -0.494729   \n",
       "2        -0.511124        -0.515608         2.020338        -0.494729   \n",
       "3         1.956473        -0.515608        -0.494967        -0.494729   \n",
       "4         1.956473        -0.515608        -0.494967        -0.494729   \n",
       "\n",
       "   poutcome_nonexistent  poutcome_success  \n",
       "0             -2.511053         -0.186655  \n",
       "1              0.398239         -0.186655  \n",
       "2              0.398239         -0.186655  \n",
       "3              0.398239         -0.186655  \n",
       "4              0.398239         -0.186655  \n",
       "\n",
       "[5 rows x 45 columns]"
      ]
     },
     "execution_count": 7,
     "metadata": {},
     "output_type": "execute_result"
    }
   ],
   "source": [
    "# Standardizing our dataset\n",
    "scaler = StandardScaler().fit(X_train)\n",
    "columns = X_train.columns\n",
    "\n",
    "scaled_train = scaler.transform(X_train)\n",
    "X_train_scaled = pd.DataFrame(scaled_train, columns=columns)\n",
    "\n",
    "print(\"Dataset:\", X_train_scaled.shape)\n",
    "X_train_scaled.head()"
   ]
  },
  {
   "cell_type": "markdown",
   "metadata": {},
   "source": [
    "## Step 7: Handling imbalanced classes\n",
    "Imbalanced classes are a common problem in machine learning classification. Our classification set for instance has 89% 'No' and 11% 'yes'. We do two ways to handle the imbalanced class problem in this project. "
   ]
  },
  {
   "cell_type": "markdown",
   "metadata": {},
   "source": [
    "## Step 7.1: Using SMOTE \n",
    "Here we try to up-sample the subscription class (minority) using the SMOTE algorithm(Synthetic Minority Oversampling Techique).<br>\n",
    "It works by creating synthetic samples from the minor class (no-subscription) instead of creating copies.\n",
    "Randomly choosing one of the k-nearest-neighbors and using it to create a similar, but randomly tweaked, new observations.\n"
   ]
  },
  {
   "cell_type": "code",
   "execution_count": 8,
   "metadata": {},
   "outputs": [
    {
     "name": "stdout",
     "output_type": "stream",
     "text": [
      "Length of oversampled data is 58458\n",
      "Number of no subscription in oversampled data 29229\n",
      "Number of subscription 29229\n",
      "Proportion of no subscription data in oversampled data is 0.5\n",
      "Proportion of subscription data in oversampled data is 0.5\n"
     ]
    }
   ],
   "source": [
    "# from imblearn.over_sampling import SMOTE \n",
    "from imblearn.over_sampling import SMOTE\n",
    "\n",
    "os = SMOTE(random_state=19)\n",
    "os_data_X, os_data_y = os.fit_sample(X_train_scaled, y_train)\n",
    "os_data_X = pd.DataFrame(data=os_data_X, columns=columns)\n",
    "os_y=os_data_y.reshape(-1, 1)\n",
    "\n",
    "# check the numbers\n",
    "print('Length of oversampled data is', len(os_data_X))\n",
    "print('Number of no subscription in oversampled data', np.sum(os_data_y==0))\n",
    "print('Number of subscription', np.sum(os_data_y==1))\n",
    "print('Proportion of no subscription data in oversampled data is', np.sum(os_data_y==0)/len(os_data_y))\n",
    "print('Proportion of subscription data in oversampled data is', np.sum(os_data_y==1)/len(os_data_y))"
   ]
  },
  {
   "cell_type": "markdown",
   "metadata": {},
   "source": [
    "check `sns.countplot()` to see if we successfully balanced the class imbalance issue"
   ]
  },
  {
   "cell_type": "code",
   "execution_count": 9,
   "metadata": {},
   "outputs": [
    {
     "data": {
      "image/png": "[encoded data removed]",
      "text/plain": [
       "<Figure size 432x288 with 1 Axes>"
      ]
     },
     "metadata": {
      "needs_background": "light"
     },
     "output_type": "display_data"
    }
   ],
   "source": [
    "c=sns.countplot(x=os_data_y, palette='hls')#, data=bank_clean, palette='hls', )\n",
    "plt.xlabel('Subscription')\n",
    "c.set_xticklabels(['Fail','Success']);\n",
    "# plt.savefig('img/count_plot_SMOTE')"
   ]
  },
  {
   "cell_type": "code",
   "execution_count": 10,
   "metadata": {},
   "outputs": [
    {
     "name": "stdout",
     "output_type": "stream",
     "text": [
      "score = 0.708\n",
      "Precision = 0.754\n",
      "Recall = 0.617\n",
      "Accuracy = 0.708\n",
      "f1 score = 0.679\n"
     ]
    }
   ],
   "source": [
    "# Perform vanilla logistic regression\n",
    "logreg_base_SMOTE = LogisticRegression(C = 1e9, solver='newton-cg')\n",
    "logreg_base_SMOTE.fit(os_data_X, os_data_y)\n",
    "y_hat_base_SMOTE = logreg_base_SMOTE.predict(os_data_X)\n",
    "\n",
    "print(f\"score = {np.round(logreg_base_SMOTE.score(os_data_X, os_data_y),3)}\")\n",
    "logistic_regression.print_metrics(os_data_y, y_hat_base_SMOTE)"
   ]
  },
  {
   "cell_type": "markdown",
   "metadata": {},
   "source": [
    "## Step 7.2: Using under-sampling technique\n",
    "The second method we tried to see is under-sampling. This technique under-samples the majority class randomly and balance the majority and the minority class. "
   ]
  },
  {
   "cell_type": "code",
   "execution_count": 11,
   "metadata": {},
   "outputs": [
    {
     "name": "stdout",
     "output_type": "stream",
     "text": [
      "success original count: 3711\n",
      "failure original count: 29229\n"
     ]
    },
    {
     "data": {
      "text/plain": [
       "1    3711\n",
       "0    3711\n",
       "Name: target, dtype: int64"
      ]
     },
     "execution_count": 11,
     "metadata": {},
     "output_type": "execute_result"
    }
   ],
   "source": [
    "from sklearn.utils import resample\n",
    "# concatenate our training data back together\n",
    "X = pd.concat([X_train_scaled, y_train], axis=1)\n",
    "X.head()\n",
    "# separate minority and majority classes\n",
    "success = X[X.target==1]\n",
    "failure = X[X.target==0]\n",
    "print(f\"success original count: {len(success)}\")\n",
    "print(f\"failure original count: {len(failure)}\")\n",
    "\n",
    "# downsample majority\n",
    "failure_downsampled = resample(failure,\n",
    "                               replace = False, # sample without replacement\n",
    "                               n_samples = len(success), # match minority n\n",
    "                               random_state = 19) # reproducible results\n",
    "\n",
    "# combine minority and downsampled majority\n",
    "downsampled = pd.concat([failure_downsampled, success])\n",
    "\n",
    "# checking counts\n",
    "downsampled.target.value_counts()"
   ]
  },
  {
   "cell_type": "code",
   "execution_count": 12,
   "metadata": {
    "scrolled": true
   },
   "outputs": [
    {
     "name": "stdout",
     "output_type": "stream",
     "text": [
      "score = 0.701\n",
      "Precision = 0.767\n",
      "Recall = 0.578\n",
      "Accuracy = 0.701\n",
      "f1 score = 0.659\n"
     ]
    }
   ],
   "source": [
    "# Trying vanilla logistic regression again with the balanced dataset\n",
    "y_train_undersample = downsampled['target']\n",
    "X_train_undersample = downsampled.drop('target', axis=1)\n",
    "\n",
    "downsampled_lr = LogisticRegression(C = 1e9, solver='newton-cg', max_iter=1000)\n",
    "downsampled_lr.fit(X_train_undersample, y_train_undersample)\n",
    "\n",
    "downsampled_pred = downsampled_lr.predict(X_train_undersample)\n",
    "\n",
    "print(f\"score = {np.round(downsampled_lr.score(X_train_undersample, y_train_undersample), 3)}\")\n",
    "logistic_regression.print_metrics(y_train_undersample, downsampled_pred)"
   ]
  },
  {
   "cell_type": "markdown",
   "metadata": {},
   "source": [
    "The model score is slightly lower compared to SMOTE. <br>\n",
    "The metric scores are about the same compared to SMOTE but SMOTE looks slightly better"
   ]
  },
  {
   "cell_type": "markdown",
   "metadata": {},
   "source": [
    "##  Step 8: Recursive Feature Elimination (RFE)\n",
    "almost all the features are categorical data. We did feature selection to only keep some of the dummied features that will really affect our logistic regression. "
   ]
  },
  {
   "cell_type": "code",
   "execution_count": 13,
   "metadata": {},
   "outputs": [
    {
     "name": "stdout",
     "output_type": "stream",
     "text": [
      "(58458, 10)\n"
     ]
    },
    {
     "data": {
      "text/html": [
       "<div>\n",
       "<style scoped>\n",
       "    .dataframe tbody tr th:only-of-type {\n",
       "        vertical-align: middle;\n",
       "    }\n",
       "\n",
       "    .dataframe tbody tr th {\n",
       "        vertical-align: top;\n",
       "    }\n",
       "\n",
       "    .dataframe thead th {\n",
       "        text-align: right;\n",
       "    }\n",
       "</style>\n",
       "<table border=\"1\" class=\"dataframe\">\n",
       "  <thead>\n",
       "    <tr style=\"text-align: right;\">\n",
       "      <th></th>\n",
       "      <th>campaign</th>\n",
       "      <th>pdays</th>\n",
       "      <th>job_retired</th>\n",
       "      <th>default_unknown</th>\n",
       "      <th>contact_telephone</th>\n",
       "      <th>month_aug</th>\n",
       "      <th>month_jul</th>\n",
       "      <th>month_may</th>\n",
       "      <th>month_nov</th>\n",
       "      <th>poutcome_nonexistent</th>\n",
       "    </tr>\n",
       "  </thead>\n",
       "  <tbody>\n",
       "    <tr>\n",
       "      <th>0</th>\n",
       "      <td>-0.564625</td>\n",
       "      <td>-0.19645</td>\n",
       "      <td>-0.209108</td>\n",
       "      <td>-0.515042</td>\n",
       "      <td>-0.757855</td>\n",
       "      <td>-0.420234</td>\n",
       "      <td>-0.459331</td>\n",
       "      <td>-0.709185</td>\n",
       "      <td>-0.333783</td>\n",
       "      <td>-2.511053</td>\n",
       "    </tr>\n",
       "    <tr>\n",
       "      <th>1</th>\n",
       "      <td>-0.204519</td>\n",
       "      <td>-0.19645</td>\n",
       "      <td>-0.209108</td>\n",
       "      <td>-0.515042</td>\n",
       "      <td>-0.757855</td>\n",
       "      <td>-0.420234</td>\n",
       "      <td>2.177080</td>\n",
       "      <td>-0.709185</td>\n",
       "      <td>-0.333783</td>\n",
       "      <td>0.398239</td>\n",
       "    </tr>\n",
       "    <tr>\n",
       "      <th>2</th>\n",
       "      <td>-0.564625</td>\n",
       "      <td>-0.19645</td>\n",
       "      <td>-0.209108</td>\n",
       "      <td>-0.515042</td>\n",
       "      <td>1.319514</td>\n",
       "      <td>-0.420234</td>\n",
       "      <td>2.177080</td>\n",
       "      <td>-0.709185</td>\n",
       "      <td>-0.333783</td>\n",
       "      <td>0.398239</td>\n",
       "    </tr>\n",
       "    <tr>\n",
       "      <th>3</th>\n",
       "      <td>0.155587</td>\n",
       "      <td>-0.19645</td>\n",
       "      <td>-0.209108</td>\n",
       "      <td>-0.515042</td>\n",
       "      <td>1.319514</td>\n",
       "      <td>-0.420234</td>\n",
       "      <td>-0.459331</td>\n",
       "      <td>-0.709185</td>\n",
       "      <td>-0.333783</td>\n",
       "      <td>0.398239</td>\n",
       "    </tr>\n",
       "    <tr>\n",
       "      <th>4</th>\n",
       "      <td>-0.564625</td>\n",
       "      <td>-0.19645</td>\n",
       "      <td>-0.209108</td>\n",
       "      <td>-0.515042</td>\n",
       "      <td>-0.757855</td>\n",
       "      <td>-0.420234</td>\n",
       "      <td>2.177080</td>\n",
       "      <td>-0.709185</td>\n",
       "      <td>-0.333783</td>\n",
       "      <td>0.398239</td>\n",
       "    </tr>\n",
       "  </tbody>\n",
       "</table>\n",
       "</div>"
      ],
      "text/plain": [
       "   campaign    pdays  job_retired  default_unknown  contact_telephone  \\\n",
       "0 -0.564625 -0.19645    -0.209108        -0.515042          -0.757855   \n",
       "1 -0.204519 -0.19645    -0.209108        -0.515042          -0.757855   \n",
       "2 -0.564625 -0.19645    -0.209108        -0.515042           1.319514   \n",
       "3  0.155587 -0.19645    -0.209108        -0.515042           1.319514   \n",
       "4 -0.564625 -0.19645    -0.209108        -0.515042          -0.757855   \n",
       "\n",
       "   month_aug  month_jul  month_may  month_nov  poutcome_nonexistent  \n",
       "0  -0.420234  -0.459331  -0.709185  -0.333783             -2.511053  \n",
       "1  -0.420234   2.177080  -0.709185  -0.333783              0.398239  \n",
       "2  -0.420234   2.177080  -0.709185  -0.333783              0.398239  \n",
       "3  -0.420234  -0.459331  -0.709185  -0.333783              0.398239  \n",
       "4  -0.420234   2.177080  -0.709185  -0.333783              0.398239  "
      ]
     },
     "execution_count": 13,
     "metadata": {},
     "output_type": "execute_result"
    }
   ],
   "source": [
    "from sklearn import datasets\n",
    "from sklearn.feature_selection import RFE\n",
    "from sklearn.linear_model import LogisticRegression\n",
    "logreg = LogisticRegression(solver='lbfgs')\n",
    "\n",
    "rfe = RFE(logreg, 10)\n",
    "rfe = rfe.fit(os_data_X, os_data_y)\n",
    "col_list = zip(os_data_X.columns, rfe.support_)\n",
    "X_new_cols = [x[0] for x in col_list if x[1]==True]\n",
    "# print(X_new_cols)\n",
    "X_new = os_data_X[X_new_cols]\n",
    "print(X_new.shape)\n",
    "X_new.head()"
   ]
  },
  {
   "cell_type": "code",
   "execution_count": 14,
   "metadata": {},
   "outputs": [
    {
     "name": "stdout",
     "output_type": "stream",
     "text": [
      "score = 0.694\n",
      "Precision = 0.745\n",
      "Recall = 0.591\n",
      "Accuracy = 0.694\n",
      "f1 score = 0.659\n"
     ]
    }
   ],
   "source": [
    "# Try applying new feature list into vanilla regression\n",
    "rfe_lr = LogisticRegression(C = 1e9, solver='newton-cg', max_iter=1000)\n",
    "rfe_lr.fit(X_new, os_data_y)\n",
    "rfe_pred = rfe_lr.predict(X_new)\n",
    "\n",
    "print(f\"score = {np.round(rfe_lr.score(X_new, os_data_y), 3)}\")\n",
    "rfe_lst = logistic_regression.print_metrics(os_data_y, rfe_pred)"
   ]
  },
  {
   "cell_type": "markdown",
   "metadata": {},
   "source": [
    "Note: **Feature elimination does not seem to increase our scores. And in order to keep the interpretability of our results, we will choose SMOTE as a way to address data imbalance.** "
   ]
  },
  {
   "cell_type": "markdown",
   "metadata": {},
   "source": [
    "## Step 9: k-Fold Cross-Validation -- Using SMOTE'd data\n",
    "at this section, we want to compare the three different regularization techniques (***'Vanilla'***, ***'Lasso'*** and ***'Ridge'***) to decide with which logistic regression penalty we should move forward with our project based on maximum average mean and minimum average standard deviation for **10-fold cross validation.**"
   ]
  },
  {
   "cell_type": "markdown",
   "metadata": {},
   "source": [
    "<font color='red'> Beware --- this will take a while to run</font>"
   ]
  },
  {
   "cell_type": "code",
   "execution_count": 15,
   "metadata": {},
   "outputs": [],
   "source": [
    "# Vanilla \n",
    "vanilla_result, vanilla_lr, vanilla_cv = logistic_regression.cross_validation(n=10, shuffle=True,\n",
    "                                                                             lr='vanilla',\n",
    "                                                                             X_train=os_data_X,\n",
    "                                                                             y_train=os_data_y,C=10e9)\n",
    "# Ridge (l2)\n",
    "l2_result, l2_reg, cv_l2 = logistic_regression.cross_validation(n=10, shuffle=True,\n",
    "                                                                lr='l2',\n",
    "                                                                X_train=os_data_X,\n",
    "                                                                y_train=os_data_y, C=1)\n",
    "# Lasso (l1)\n",
    "l1_result, l1_reg, cv_l1 = logistic_regression.cross_validation(n=10, shuffle=True,\n",
    "                                                                lr='l1',\n",
    "                                                                X_train=os_data_X,\n",
    "                                                                y_train=os_data_y,C=1)"
   ]
  },
  {
   "cell_type": "code",
   "execution_count": 16,
   "metadata": {},
   "outputs": [
    {
     "name": "stdout",
     "output_type": "stream",
     "text": [
      "Average regularization means:\n",
      "------------------------------------\n",
      "Vanilla:  [0.70826158 0.70737965]\n",
      "Lasso(l1):  [0.70826348 0.7074994 ]\n",
      "Ridge(l2):  [0.70824828 0.70741386]\n",
      "------------------------------------\n",
      "Average regularization standard deviations\n",
      "------------------------------------\n",
      "Vanilla:  [0.00044485 0.00297381]\n",
      "Lasso(l1):  [0.00045829 0.00288845]\n",
      "Ridge(l2):  [0.0004411  0.00295954]\n"
     ]
    }
   ],
   "source": [
    "# printing average mean\n",
    "print('Average regularization means:')\n",
    "print('------------------------------------')\n",
    "print('Vanilla: ', vanilla_result.mean(axis=0))\n",
    "print('Lasso(l1): ', l1_result.mean(axis=0))\n",
    "print('Ridge(l2): ', l2_result.mean(axis=0))\n",
    "\n",
    "# calculate average standard deviation\n",
    "print('------------------------------------')\n",
    "print(\"Average regularization standard deviations\")\n",
    "print('------------------------------------')\n",
    "print('Vanilla: ', vanilla_result.std(axis=0))\n",
    "print('Lasso(l1): ', l1_result.std(axis=0))\n",
    "print('Ridge(l2): ', l2_result.std(axis=0))"
   ]
  },
  {
   "cell_type": "markdown",
   "metadata": {},
   "source": [
    "**Note:** **Lasso(l1)** and **Ridge(l2)** regularization seams  to give very comparable model scores. So, we will keep both and see whether parameter tuning (C or penalization) results different in scores."
   ]
  },
  {
   "cell_type": "markdown",
   "metadata": {},
   "source": [
    "<font color='red'> Beware --- this will take a while to run</font>"
   ]
  },
  {
   "cell_type": "code",
   "execution_count": 17,
   "metadata": {},
   "outputs": [
    {
     "name": "stdout",
     "output_type": "stream",
     "text": [
      "Average std: [0.00044485141298312677, 0.00044041021512455626, 0.00045885074291132156, 0.0006429759872742856, 0.0]\n",
      "Average means: [0.7082615842608029, 0.7082615841885518, 0.7082596834814888, 0.7079669779173285, 0.5]\n"
     ]
    }
   ],
   "source": [
    "# lasso regularization\n",
    "l1_mean_list, l1_std_list = [], []\n",
    "for i in [1e9, 1e2, 1, 1e-2, 1e-9]:\n",
    "    l1_result, l1_reg, cv_l1 = logistic_regression.cross_validation(n=10, shuffle=True, lr='l1',\n",
    "                                                                    X_train=os_data_X,\n",
    "                                                                    y_train=os_data_y,\n",
    "                                                                    C = i)\n",
    "    l1_mean_list.append(l1_result.mean(axis=0))\n",
    "    l1_std_list.append(l1_result.std(axis=0))\n",
    "#     print(f\"C={i} result: {l1_result}\")\n",
    "\n",
    "y_l1_std_plot = [x[0] for x in l1_std_list]\n",
    "y_l1_mean_plot = [x[0] for x in l1_mean_list]\n",
    "print('Average std:', y_l1_std_plot)\n",
    "print('Average means:', y_l1_mean_plot)"
   ]
  },
  {
   "cell_type": "markdown",
   "metadata": {},
   "source": [
    "<font color='red'> Beware --- this will take a while to run </font>"
   ]
  },
  {
   "cell_type": "code",
   "execution_count": 18,
   "metadata": {},
   "outputs": [
    {
     "name": "stdout",
     "output_type": "stream",
     "text": [
      "Average std: [0.0006280413246646159, 0.0006280413246646159, 0.0006405102708922318, 0.000628168109968405, 0.0007806922282804006]\n",
      "Average means: [0.7081408829635186, 0.7081408829635186, 0.7081237767015518, 0.7078971205136313, 0.655727182358872]\n"
     ]
    }
   ],
   "source": [
    "# gidge regularization\n",
    "l2_mean_list, l2_std_list = [], []\n",
    "for i in [1e9, 1e2, 1, 1e-2, 1e-9]:\n",
    "    l2_result, l2_reg, cv_l2 = logistic_regression.cross_validation(n=5, shuffle=True, lr='l2',\n",
    "                                                                    X_train=os_data_X,\n",
    "                                                                    y_train=os_data_y,\n",
    "                                                                    C = i)\n",
    "    l2_mean_list.append(l2_result.mean(axis=0))\n",
    "    l2_std_list.append(l2_result.std(axis=0))\n",
    "#     print(f\"C={i} result: {l2_result}\") #, l1_reg, cv_l1 )\n",
    "y_l2_std_plot = [x[0] for x in l2_std_list]\n",
    "y_l2_mean_plot = [x[0] for x in l2_mean_list]\n",
    "print('Average std:', y_l2_std_plot)\n",
    "print('Average means:', y_l2_mean_plot)"
   ]
  },
  {
   "cell_type": "markdown",
   "metadata": {},
   "source": [
    "<font color='red'> here we go again --- the following cell might take a wile to load</font>"
   ]
  },
  {
   "cell_type": "code",
   "execution_count": 19,
   "metadata": {},
   "outputs": [
    {
     "data": {
      "text/plain": [
       "<matplotlib.legend.Legend at 0x1a28db8128>"
      ]
     },
     "execution_count": 19,
     "metadata": {},
     "output_type": "execute_result"
    },
    {
     "data": {
      "image/png": "[encoded data removed]",
      "text/plain": [
       "<Figure size 432x288 with 1 Axes>"
      ]
     },
     "metadata": {},
     "output_type": "display_data"
    }
   ],
   "source": [
    "C = [1/1e9, 1/1e2, 1/1, 1/1e-2, 1/1e-9]\n",
    "\n",
    "sns.set(font_scale=1.2)\n",
    "sns.lineplot(x=C, y=y_l1_mean_plot, lw=3, alpha=.8, label='L1')\n",
    "sns.lineplot(x=C, y=y_l2_mean_plot, lw=3, alpha=.8, label='L2')\n",
    "plt.xscale(\"log\")\n",
    "plt.ylim(.65,.73)\n",
    "plt.xlabel('$\\lambda$',fontsize=14)\n",
    "plt.ylabel('score',fontsize=14)\n",
    "plt.tight_layout()\n",
    "plt.legend()\n",
    "\n",
    "# plt.savefig('img/Cscore_L1_L2');"
   ]
  },
  {
   "cell_type": "markdown",
   "metadata": {},
   "source": [
    "From the graph above we concluded that **L1** and **L2** regularization give us the same scores for $\\lambda$ lower than 100.<br>\n",
    "> Moving forward we choose:\n",
    "- **Logistic regression with ridge (l2) regularization**\n",
    "- With **C-value = 100** (middle point of our testing range)"
   ]
  },
  {
   "cell_type": "markdown",
   "metadata": {},
   "source": [
    "## Step 10: Logistic regression with Ridge(l2) regularization and C value of 100. \n",
    "logistic regression with ridge penalty and a nice confusion matrix plot"
   ]
  },
  {
   "cell_type": "code",
   "execution_count": 9,
   "metadata": {},
   "outputs": [
    {
     "name": "stdout",
     "output_type": "stream",
     "text": [
      "Confusion matrix, without normalization\n",
      "Precision = 0.754\n",
      "Recall = 0.617\n",
      "Accuracy = 0.708\n",
      "f1 score = 0.679\n"
     ]
    },
    {
     "data": {
      "image/png": "[encoded data removed]",
      "text/plain": [
       "<Figure size 432x288 with 2 Axes>"
      ]
     },
     "metadata": {
      "needs_background": "light"
     },
     "output_type": "display_data"
    }
   ],
   "source": [
    "class_names = set(os_data_y)\n",
    "l2_reg = LogisticRegression(C=100, solver='newton-cg', max_iter=1000, penalty='l2')\n",
    "l2_reg.fit(X=os_data_X, y=os_data_y)\n",
    "l2_reg_pred = l2_reg.predict(os_data_X)\n",
    "\n",
    "# calculate confusion matrix using sklearn\n",
    "conf_matrix = confusion_matrix(y_true=os_data_y, y_pred=l2_reg.predict(os_data_X))\n",
    "\n",
    "# import our model\n",
    "import logistic_regression_plots as lr_plot\n",
    "lr_plot.plot_confusion_matrix(cm=conf_matrix, classes=class_names)\n",
    "logistic_regression.print_metrics(y_train=os_data_y, y_hat=l2_reg.predict(os_data_X))\n",
    "# plt.savefig('img/CM_train')"
   ]
  },
  {
   "cell_type": "code",
   "execution_count": 21,
   "metadata": {},
   "outputs": [
    {
     "name": "stdout",
     "output_type": "stream",
     "text": [
      "(0.13052105785350165, 0.5521228916487051, 0.55)\n",
      "AUC: 0.78\n"
     ]
    },
    {
     "data": {
      "image/png": "[encoded data removed]",
      "text/plain": [
       "<Figure size 576x360 with 1 Axes>"
      ]
     },
     "metadata": {},
     "output_type": "display_data"
    }
   ],
   "source": [
    "# minimizing cost\n",
    "fpr, tpr, cost, thres = logistic_regression.minimize_cost(lr=l2_reg, X_train=os_data_X, y_train=os_data_y)\n",
    "cost_idx = np.argmin(cost) # returns the minimum\n",
    "min_cost_threshold = fpr[cost_idx], tpr[cost_idx], thres[cost_idx]\n",
    "print(min_cost_threshold)\n",
    "\n",
    "# plot the roc curve indicating the treshold\n",
    "logit_roc_auc = roc_auc_score(os_data_y, l2_reg.predict(os_data_X))\n",
    "fpr_lst, tpr_lst, thresholds = roc_curve(os_data_y, l2_reg.predict_proba(os_data_X)[:,1])\n",
    "lr_plot.roc_curve(fpr_lst, tpr_lst, min_cost_threshold)"
   ]
  },
  {
   "cell_type": "code",
   "execution_count": 22,
   "metadata": {},
   "outputs": [
    {
     "name": "stdout",
     "output_type": "stream",
     "text": [
      "Average precision-recall score: 0.66\n"
     ]
    },
    {
     "data": {
      "image/png": "[encoded data removed]",
      "text/plain": [
       "<Figure size 432x288 with 1 Axes>"
      ]
     },
     "metadata": {},
     "output_type": "display_data"
    }
   ],
   "source": [
    "from sklearn.metrics import precision_recall_curve\n",
    "import matplotlib.pyplot as plt\n",
    "from inspect import signature\n",
    "\n",
    "# l2_reg.fit(X=os_data_X, y=os_data_y)\n",
    "y_score = l2_reg.predict(os_data_X)\n",
    "\n",
    "precision, recall, _ = precision_recall_curve(os_data_y, y_score)\n",
    "\n",
    "from sklearn.metrics import average_precision_score\n",
    "average_precision = average_precision_score(os_data_y, y_score)\n",
    "\n",
    "print('Average precision-recall score: {0:0.2f}'.format(\n",
    "      average_precision))\n",
    "\n",
    "# In matplotlib < 1.5, plt.fill_between does not have a 'step' argument\n",
    "step_kwargs = ({'step': 'post'}\n",
    "               if 'step' in signature(plt.fill_between).parameters\n",
    "               else {})\n",
    "plt.step(recall, precision, color='b', alpha=0.2,\n",
    "         where='post')\n",
    "plt.fill_between(recall, precision, alpha=0.2, color='b', **step_kwargs)\n",
    "\n",
    "plt.xlabel('Recall')\n",
    "plt.ylabel('Precision')\n",
    "plt.ylim([0.0, 1.05])\n",
    "plt.xlim([0.0, 1.0])\n",
    "plt.title('2-class Precision-Recall curve: AP={0:0.2f}'.format(\n",
    "          average_precision));"
   ]
  },
  {
   "cell_type": "markdown",
   "metadata": {},
   "source": [
    "## Step 11: Finding Optimum Threshold, Maximizing F1 Score\n",
    "We calculated the optimum threshold with maximum f1-score and lower recall"
   ]
  },
  {
   "cell_type": "code",
   "execution_count": 2,
   "metadata": {},
   "outputs": [
    {
     "ename": "ModuleNotFoundError",
     "evalue": "No module named 'yellowbrick'",
     "output_type": "error",
     "traceback": [
      "\u001b[0;31m---------------------------------------------------------------------------\u001b[0m",
      "\u001b[0;31mModuleNotFoundError\u001b[0m                       Traceback (most recent call last)",
      "\u001b[0;32m<ipython-input-2-d35f6953db85>\u001b[0m in \u001b[0;36m<module>\u001b[0;34m()\u001b[0m\n\u001b[0;32m----> 1\u001b[0;31m \u001b[0;32mfrom\u001b[0m \u001b[0myellowbrick\u001b[0m\u001b[0;34m.\u001b[0m\u001b[0mclassifier\u001b[0m \u001b[0;32mimport\u001b[0m \u001b[0mDiscriminationThreshold\u001b[0m\u001b[0;34m\u001b[0m\u001b[0m\n\u001b[0m\u001b[1;32m      2\u001b[0m \u001b[0;34m\u001b[0m\u001b[0m\n\u001b[1;32m      3\u001b[0m \u001b[0mfig\u001b[0m\u001b[0;34m,\u001b[0m \u001b[0max\u001b[0m \u001b[0;34m=\u001b[0m \u001b[0mplt\u001b[0m\u001b[0;34m.\u001b[0m\u001b[0msubplots\u001b[0m\u001b[0;34m(\u001b[0m\u001b[0;34m)\u001b[0m\u001b[0;34m\u001b[0m\u001b[0m\n\u001b[1;32m      4\u001b[0m \u001b[0;34m\u001b[0m\u001b[0m\n\u001b[1;32m      5\u001b[0m \u001b[0;31m# Load a binary classification dataset\u001b[0m\u001b[0;34m\u001b[0m\u001b[0;34m\u001b[0m\u001b[0m\n",
      "\u001b[0;31mModuleNotFoundError\u001b[0m: No module named 'yellowbrick'"
     ]
    }
   ],
   "source": [
    "from yellowbrick.classifier import DiscriminationThreshold\n",
    "\n",
    "fig, ax = plt.subplots()\n",
    "\n",
    "# Load a binary classification dataset\n",
    "X, y = os_data_X, os_data_y\n",
    "\n",
    "# Instantiate the classification model and visualizer\n",
    "l2_reg = LogisticRegression(C=100, solver='newton-cg', max_iter=1000)\n",
    "visualizer = DiscriminationThreshold(l2_reg, exclude='queue_rate', is_fitted=True,ax=ax)\n",
    "\n",
    "visualizer.fit(X, y)        # Fit the data to the visualizer\n",
    "visualizer.finalize()\n",
    "\n",
    "plt.tight_layout()\n",
    "plt.legend()\n",
    "plt.xlabel('Discrimination Threshold')\n",
    "plt.ylabel('Score')\n",
    "plt.savefig('img/Threshold')\n",
    "plt.show()         # Finalize and render the figure"
   ]
  },
  {
   "cell_type": "markdown",
   "metadata": {},
   "source": [
    "we then plot our confusion matrix using this calculated threshold value"
   ]
  },
  {
   "cell_type": "code",
   "execution_count": 10,
   "metadata": {},
   "outputs": [
    {
     "name": "stdout",
     "output_type": "stream",
     "text": [
      "Confusion matrix, without normalization\n",
      "Precision = 0.754\n",
      "Recall = 0.617\n",
      "Accuracy = 0.708\n",
      "f1 score = 0.679\n"
     ]
    },
    {
     "data": {
      "image/png": "[encoded data removed]",
      "text/plain": [
       "<Figure size 432x288 with 2 Axes>"
      ]
     },
     "metadata": {
      "needs_background": "light"
     },
     "output_type": "display_data"
    }
   ],
   "source": [
    "l2_reg.fit(X=os_data_X, y=os_data_y)\n",
    "y_pred_034 = 1*(l2_reg.predict_proba(X=os_data_X)[:,1]>=0.34)\n",
    "conf_matrix = confusion_matrix(y_true=os_data_y, y_pred=y_pred_034)\n",
    "lr_plot.plot_confusion_matrix(cm=conf_matrix, classes=class_names)\n",
    "logistic_regression.print_metrics(y_train=os_data_y, y_hat=l2_reg.predict(os_data_X))\n",
    "# plt.savefig('img/CM_train_0.34')"
   ]
  },
  {
   "cell_type": "markdown",
   "metadata": {},
   "source": [
    "## Step 12: Test Final Model With Test Data\n",
    "we now are comfortable with our model and we are testing it on our test data"
   ]
  },
  {
   "cell_type": "code",
   "execution_count": 11,
   "metadata": {},
   "outputs": [
    {
     "data": {
      "text/plain": [
       "8236"
      ]
     },
     "execution_count": 11,
     "metadata": {},
     "output_type": "execute_result"
    }
   ],
   "source": [
    "## Load Test data from data/Test\n",
    "Test = pd.read_csv('data/Test.csv',)\n",
    "X_test = Test.drop('target', axis = 1)\n",
    "y_test = Test['target']\n",
    "len(y_test)"
   ]
  },
  {
   "cell_type": "code",
   "execution_count": 12,
   "metadata": {},
   "outputs": [
    {
     "name": "stdout",
     "output_type": "stream",
     "text": [
      "Confusion matrix, without normalization\n",
      "Precision = 0.265\n",
      "Recall = 0.596\n",
      "Accuracy = 0.769\n",
      "f1 score = 0.367\n"
     ]
    },
    {
     "data": {
      "image/png": "[encoded data removed]",
      "text/plain": [
       "<Figure size 432x288 with 2 Axes>"
      ]
     },
     "metadata": {
      "needs_background": "light"
     },
     "output_type": "display_data"
    }
   ],
   "source": [
    "# scale the test dataset \n",
    "scaled_test = scaler.transform(X_test)\n",
    "X_test_scaled = pd.DataFrame(scaled_test, columns=columns)\n",
    "\n",
    "# plot a test confustion matrix\n",
    "y_pred_test = l2_reg.predict(X_test_scaled)\n",
    "conf_matrix_test = confusion_matrix(y_true=y_test, y_pred=y_pred_test)\n",
    "lr_plot.plot_confusion_matrix(cm=conf_matrix_test, classes=class_names)\n",
    "logistic_regression.print_metrics(y_train=y_test, y_hat=y_pred_test)\n",
    "# plt.savefig('img/CM_test')"
   ]
  },
  {
   "cell_type": "markdown",
   "metadata": {},
   "source": [
    "With Optimum Threshold"
   ]
  },
  {
   "cell_type": "code",
   "execution_count": 13,
   "metadata": {},
   "outputs": [
    {
     "name": "stdout",
     "output_type": "stream",
     "text": [
      "Confusion matrix, without normalization\n",
      "Precision = 0.158\n",
      "Recall = 0.843\n",
      "Accuracy = 0.476\n",
      "f1 score = 0.266\n"
     ]
    },
    {
     "data": {
      "image/png": "[encoded data removed]",
      "text/plain": [
       "<Figure size 432x288 with 2 Axes>"
      ]
     },
     "metadata": {
      "needs_background": "light"
     },
     "output_type": "display_data"
    }
   ],
   "source": [
    "# l2_reg.fit(X=os_data_X, y=os_data_y)\n",
    "y_test_pred= 1*(l2_reg.predict_proba(X=X_test_scaled)[:,1]>=0.34)\n",
    "cm_test_threshold = confusion_matrix(y_true=y_test, y_pred=y_test_pred)\n",
    "lr_plot.plot_confusion_matrix(cm=cm_test_threshold, classes=class_names)\n",
    "logistic_regression.print_metrics(y_train=y_test, y_hat=y_test_pred)\n",
    "# plt.savefig('img/CM_test_threshold')"
   ]
  },
  {
   "cell_type": "code",
   "execution_count": 14,
   "metadata": {},
   "outputs": [
    {
     "name": "stdout",
     "output_type": "stream",
     "text": [
      "AUC: 0.761\n"
     ]
    },
    {
     "data": {
      "image/png": "[encoded data removed]",
      "text/plain": [
       "<Figure size 576x360 with 1 Axes>"
      ]
     },
     "metadata": {},
     "output_type": "display_data"
    }
   ],
   "source": [
    "# plot the roc curve indicating the treshold\n",
    "test_roc_auc = roc_auc_score(y_test, y_test_pred)\n",
    "fpr_test, tpr_test, thresh = roc_curve(y_test, l2_reg.predict_proba(X_test_scaled)[:,1])\n",
    "lr_plot.roc_curve_no_thres(fpr_test, tpr_test)"
   ]
  },
  {
   "cell_type": "code",
   "execution_count": null,
   "metadata": {},
   "outputs": [],
   "source": []
  },
  {
   "cell_type": "markdown",
   "metadata": {},
   "source": [
    "### ----- The End ----"
   ]
  }
 ],
 "metadata": {
  "kernelspec": {
   "display_name": "learn-env",
   "language": "python",
   "name": "learn-env"
  },
  "language_info": {
   "codemirror_mode": {
    "name": "ipython",
    "version": 3
   },
   "file_extension": ".py",
   "mimetype": "text/x-python",
   "name": "python",
   "nbconvert_exporter": "python",
   "pygments_lexer": "ipython3",
   "version": "3.6.6"
  },
  "toc": {
   "base_numbering": 1,
   "nav_menu": {},
   "number_sections": true,
   "sideBar": true,
   "skip_h1_title": false,
   "title_cell": "Table of Contents",
   "title_sidebar": "Contents",
   "toc_cell": false,
   "toc_position": {},
   "toc_section_display": true,
   "toc_window_display": true
  }
 },
 "nbformat": 4,
 "nbformat_minor": 2
}
